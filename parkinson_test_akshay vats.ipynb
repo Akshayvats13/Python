{
 "cells": [
  {
   "cell_type": "code",
   "execution_count": 3,
   "metadata": {},
   "outputs": [],
   "source": [
    "import pandas as pd\n",
    "import numpy as np\n",
    "\n",
    "from sklearn.model_selection import train_test_split\n",
    "%matplotlib inline\n",
    "#import seaborn as sns\n",
    "import matplotlib.pyplot as plt\n",
    "from sklearn.linear_model import LogisticRegression\n",
    "from sklearn import metrics\n",
    "from sklearn import tree\n",
    "from scipy.stats import levene,shapiro,f_oneway\n",
    "from sklearn.metrics import roc_curve,auc"
   ]
  },
  {
   "cell_type": "code",
   "execution_count": 47,
   "metadata": {},
   "outputs": [],
   "source": [
    "import pandas as pd \n",
    "import numpy as np \n",
    "from sklearn.preprocessing import StandardScaler\n",
    "from sklearn.decomposition import PCA\n",
    "#importing ploting library \n",
    "import matplotlib.pyplot as plt \n",
    "from scipy.stats import zscore\n",
    "from sklearn import datasets \n",
    "import numpy as np\n",
    "import pandas as pd \n",
    "import matplotlib.pyplot as plt\n",
    "%matplotlib inline\n",
    "import scipy.stats as stats \n",
    "import seaborn as sns \n",
    "#import Linear Regression machine Learning Library \n",
    "from sklearn.linear_model import LinearRegression\n",
    "from sklearn.linear_model import LogisticRegression\n",
    "from sklearn import metrics\n",
    "import statsmodels.formula.api as smf\n",
    "from sklearn.datasets import load_iris"
   ]
  },
  {
   "cell_type": "code",
   "execution_count": 4,
   "metadata": {},
   "outputs": [
    {
     "data": {
      "text/html": [
       "<div>\n",
       "<style scoped>\n",
       "    .dataframe tbody tr th:only-of-type {\n",
       "        vertical-align: middle;\n",
       "    }\n",
       "\n",
       "    .dataframe tbody tr th {\n",
       "        vertical-align: top;\n",
       "    }\n",
       "\n",
       "    .dataframe thead th {\n",
       "        text-align: right;\n",
       "    }\n",
       "</style>\n",
       "<table border=\"1\" class=\"dataframe\">\n",
       "  <thead>\n",
       "    <tr style=\"text-align: right;\">\n",
       "      <th></th>\n",
       "      <th>name</th>\n",
       "      <th>MDVP:Fo(Hz)</th>\n",
       "      <th>MDVP:Fhi(Hz)</th>\n",
       "      <th>MDVP:Flo(Hz)</th>\n",
       "      <th>MDVP:Jitter(%)</th>\n",
       "      <th>MDVP:Jitter(Abs)</th>\n",
       "      <th>MDVP:RAP</th>\n",
       "      <th>MDVP:PPQ</th>\n",
       "      <th>Jitter:DDP</th>\n",
       "      <th>MDVP:Shimmer</th>\n",
       "      <th>...</th>\n",
       "      <th>Shimmer:DDA</th>\n",
       "      <th>NHR</th>\n",
       "      <th>HNR</th>\n",
       "      <th>status</th>\n",
       "      <th>RPDE</th>\n",
       "      <th>DFA</th>\n",
       "      <th>spread1</th>\n",
       "      <th>spread2</th>\n",
       "      <th>D2</th>\n",
       "      <th>PPE</th>\n",
       "    </tr>\n",
       "  </thead>\n",
       "  <tbody>\n",
       "    <tr>\n",
       "      <th>0</th>\n",
       "      <td>phon_R01_S01_1</td>\n",
       "      <td>119.992</td>\n",
       "      <td>157.302</td>\n",
       "      <td>74.997</td>\n",
       "      <td>0.00784</td>\n",
       "      <td>0.00007</td>\n",
       "      <td>0.00370</td>\n",
       "      <td>0.00554</td>\n",
       "      <td>0.01109</td>\n",
       "      <td>0.04374</td>\n",
       "      <td>...</td>\n",
       "      <td>0.06545</td>\n",
       "      <td>0.02211</td>\n",
       "      <td>21.033</td>\n",
       "      <td>1</td>\n",
       "      <td>0.414783</td>\n",
       "      <td>0.815285</td>\n",
       "      <td>-4.813031</td>\n",
       "      <td>0.266482</td>\n",
       "      <td>2.301442</td>\n",
       "      <td>0.284654</td>\n",
       "    </tr>\n",
       "    <tr>\n",
       "      <th>1</th>\n",
       "      <td>phon_R01_S01_2</td>\n",
       "      <td>122.400</td>\n",
       "      <td>148.650</td>\n",
       "      <td>113.819</td>\n",
       "      <td>0.00968</td>\n",
       "      <td>0.00008</td>\n",
       "      <td>0.00465</td>\n",
       "      <td>0.00696</td>\n",
       "      <td>0.01394</td>\n",
       "      <td>0.06134</td>\n",
       "      <td>...</td>\n",
       "      <td>0.09403</td>\n",
       "      <td>0.01929</td>\n",
       "      <td>19.085</td>\n",
       "      <td>1</td>\n",
       "      <td>0.458359</td>\n",
       "      <td>0.819521</td>\n",
       "      <td>-4.075192</td>\n",
       "      <td>0.335590</td>\n",
       "      <td>2.486855</td>\n",
       "      <td>0.368674</td>\n",
       "    </tr>\n",
       "    <tr>\n",
       "      <th>2</th>\n",
       "      <td>phon_R01_S01_3</td>\n",
       "      <td>116.682</td>\n",
       "      <td>131.111</td>\n",
       "      <td>111.555</td>\n",
       "      <td>0.01050</td>\n",
       "      <td>0.00009</td>\n",
       "      <td>0.00544</td>\n",
       "      <td>0.00781</td>\n",
       "      <td>0.01633</td>\n",
       "      <td>0.05233</td>\n",
       "      <td>...</td>\n",
       "      <td>0.08270</td>\n",
       "      <td>0.01309</td>\n",
       "      <td>20.651</td>\n",
       "      <td>1</td>\n",
       "      <td>0.429895</td>\n",
       "      <td>0.825288</td>\n",
       "      <td>-4.443179</td>\n",
       "      <td>0.311173</td>\n",
       "      <td>2.342259</td>\n",
       "      <td>0.332634</td>\n",
       "    </tr>\n",
       "    <tr>\n",
       "      <th>3</th>\n",
       "      <td>phon_R01_S01_4</td>\n",
       "      <td>116.676</td>\n",
       "      <td>137.871</td>\n",
       "      <td>111.366</td>\n",
       "      <td>0.00997</td>\n",
       "      <td>0.00009</td>\n",
       "      <td>0.00502</td>\n",
       "      <td>0.00698</td>\n",
       "      <td>0.01505</td>\n",
       "      <td>0.05492</td>\n",
       "      <td>...</td>\n",
       "      <td>0.08771</td>\n",
       "      <td>0.01353</td>\n",
       "      <td>20.644</td>\n",
       "      <td>1</td>\n",
       "      <td>0.434969</td>\n",
       "      <td>0.819235</td>\n",
       "      <td>-4.117501</td>\n",
       "      <td>0.334147</td>\n",
       "      <td>2.405554</td>\n",
       "      <td>0.368975</td>\n",
       "    </tr>\n",
       "    <tr>\n",
       "      <th>4</th>\n",
       "      <td>phon_R01_S01_5</td>\n",
       "      <td>116.014</td>\n",
       "      <td>141.781</td>\n",
       "      <td>110.655</td>\n",
       "      <td>0.01284</td>\n",
       "      <td>0.00011</td>\n",
       "      <td>0.00655</td>\n",
       "      <td>0.00908</td>\n",
       "      <td>0.01966</td>\n",
       "      <td>0.06425</td>\n",
       "      <td>...</td>\n",
       "      <td>0.10470</td>\n",
       "      <td>0.01767</td>\n",
       "      <td>19.649</td>\n",
       "      <td>1</td>\n",
       "      <td>0.417356</td>\n",
       "      <td>0.823484</td>\n",
       "      <td>-3.747787</td>\n",
       "      <td>0.234513</td>\n",
       "      <td>2.332180</td>\n",
       "      <td>0.410335</td>\n",
       "    </tr>\n",
       "  </tbody>\n",
       "</table>\n",
       "<p>5 rows × 24 columns</p>\n",
       "</div>"
      ],
      "text/plain": [
       "             name  MDVP:Fo(Hz)  MDVP:Fhi(Hz)  MDVP:Flo(Hz)  MDVP:Jitter(%)  \\\n",
       "0  phon_R01_S01_1      119.992       157.302        74.997         0.00784   \n",
       "1  phon_R01_S01_2      122.400       148.650       113.819         0.00968   \n",
       "2  phon_R01_S01_3      116.682       131.111       111.555         0.01050   \n",
       "3  phon_R01_S01_4      116.676       137.871       111.366         0.00997   \n",
       "4  phon_R01_S01_5      116.014       141.781       110.655         0.01284   \n",
       "\n",
       "   MDVP:Jitter(Abs)  MDVP:RAP  MDVP:PPQ  Jitter:DDP  MDVP:Shimmer    ...     \\\n",
       "0           0.00007   0.00370   0.00554     0.01109       0.04374    ...      \n",
       "1           0.00008   0.00465   0.00696     0.01394       0.06134    ...      \n",
       "2           0.00009   0.00544   0.00781     0.01633       0.05233    ...      \n",
       "3           0.00009   0.00502   0.00698     0.01505       0.05492    ...      \n",
       "4           0.00011   0.00655   0.00908     0.01966       0.06425    ...      \n",
       "\n",
       "   Shimmer:DDA      NHR     HNR  status      RPDE       DFA   spread1  \\\n",
       "0      0.06545  0.02211  21.033       1  0.414783  0.815285 -4.813031   \n",
       "1      0.09403  0.01929  19.085       1  0.458359  0.819521 -4.075192   \n",
       "2      0.08270  0.01309  20.651       1  0.429895  0.825288 -4.443179   \n",
       "3      0.08771  0.01353  20.644       1  0.434969  0.819235 -4.117501   \n",
       "4      0.10470  0.01767  19.649       1  0.417356  0.823484 -3.747787   \n",
       "\n",
       "    spread2        D2       PPE  \n",
       "0  0.266482  2.301442  0.284654  \n",
       "1  0.335590  2.486855  0.368674  \n",
       "2  0.311173  2.342259  0.332634  \n",
       "3  0.334147  2.405554  0.368975  \n",
       "4  0.234513  2.332180  0.410335  \n",
       "\n",
       "[5 rows x 24 columns]"
      ]
     },
     "execution_count": 4,
     "metadata": {},
     "output_type": "execute_result"
    }
   ],
   "source": [
    "df = pd.read_csv('parkinson.csv')\n",
    "df.head()"
   ]
  },
  {
   "cell_type": "code",
   "execution_count": 5,
   "metadata": {},
   "outputs": [
    {
     "data": {
      "text/plain": [
       "Index(['name', 'MDVP:Fo(Hz)', 'MDVP:Fhi(Hz)', 'MDVP:Flo(Hz)', 'MDVP:Jitter(%)',\n",
       "       'MDVP:Jitter(Abs)', 'MDVP:RAP', 'MDVP:PPQ', 'Jitter:DDP',\n",
       "       'MDVP:Shimmer', 'MDVP:Shimmer(dB)', 'Shimmer:APQ3', 'Shimmer:APQ5',\n",
       "       'MDVP:APQ', 'Shimmer:DDA', 'NHR', 'HNR', 'status', 'RPDE', 'DFA',\n",
       "       'spread1', 'spread2', 'D2', 'PPE'],\n",
       "      dtype='object')"
      ]
     },
     "execution_count": 5,
     "metadata": {},
     "output_type": "execute_result"
    }
   ],
   "source": [
    "df.columns"
   ]
  },
  {
   "cell_type": "code",
   "execution_count": null,
   "metadata": {},
   "outputs": [],
   "source": []
  },
  {
   "cell_type": "code",
   "execution_count": 6,
   "metadata": {},
   "outputs": [
    {
     "data": {
      "text/plain": [
       "<bound method IndexOpsMixin.nunique of 0      phon_R01_S01_1\n",
       "1      phon_R01_S01_2\n",
       "2      phon_R01_S01_3\n",
       "3      phon_R01_S01_4\n",
       "4      phon_R01_S01_5\n",
       "5      phon_R01_S01_6\n",
       "6      phon_R01_S02_1\n",
       "7      phon_R01_S02_2\n",
       "8      phon_R01_S02_3\n",
       "9      phon_R01_S02_4\n",
       "10     phon_R01_S02_5\n",
       "11     phon_R01_S02_6\n",
       "12     phon_R01_S04_1\n",
       "13     phon_R01_S04_2\n",
       "14     phon_R01_S04_3\n",
       "15     phon_R01_S04_4\n",
       "16     phon_R01_S04_5\n",
       "17     phon_R01_S04_6\n",
       "18     phon_R01_S05_1\n",
       "19     phon_R01_S05_2\n",
       "20     phon_R01_S05_3\n",
       "21     phon_R01_S05_4\n",
       "22     phon_R01_S05_5\n",
       "23     phon_R01_S05_6\n",
       "24     phon_R01_S06_1\n",
       "25     phon_R01_S06_2\n",
       "26     phon_R01_S06_3\n",
       "27     phon_R01_S06_4\n",
       "28     phon_R01_S06_5\n",
       "29     phon_R01_S06_6\n",
       "            ...      \n",
       "165    phon_R01_S42_1\n",
       "166    phon_R01_S42_2\n",
       "167    phon_R01_S42_3\n",
       "168    phon_R01_S42_4\n",
       "169    phon_R01_S42_5\n",
       "170    phon_R01_S42_6\n",
       "171    phon_R01_S43_1\n",
       "172    phon_R01_S43_2\n",
       "173    phon_R01_S43_3\n",
       "174    phon_R01_S43_4\n",
       "175    phon_R01_S43_5\n",
       "176    phon_R01_S43_6\n",
       "177    phon_R01_S44_1\n",
       "178    phon_R01_S44_2\n",
       "179    phon_R01_S44_3\n",
       "180    phon_R01_S44_4\n",
       "181    phon_R01_S44_5\n",
       "182    phon_R01_S44_6\n",
       "183    phon_R01_S49_1\n",
       "184    phon_R01_S49_2\n",
       "185    phon_R01_S49_3\n",
       "186    phon_R01_S49_4\n",
       "187    phon_R01_S49_5\n",
       "188    phon_R01_S49_6\n",
       "189    phon_R01_S50_1\n",
       "190    phon_R01_S50_2\n",
       "191    phon_R01_S50_3\n",
       "192    phon_R01_S50_4\n",
       "193    phon_R01_S50_5\n",
       "194    phon_R01_S50_6\n",
       "Name: name, Length: 195, dtype: object>"
      ]
     },
     "execution_count": 6,
     "metadata": {},
     "output_type": "execute_result"
    }
   ],
   "source": [
    "df.name.nunique"
   ]
  },
  {
   "cell_type": "code",
   "execution_count": 7,
   "metadata": {},
   "outputs": [],
   "source": [
    "X= df[['MDVP:Fo(Hz)', 'MDVP:Fhi(Hz)', 'MDVP:Flo(Hz)', 'MDVP:Jitter(%)',\n",
    "       'MDVP:Jitter(Abs)', 'MDVP:RAP', 'MDVP:PPQ', 'Jitter:DDP',\n",
    "       'MDVP:Shimmer', 'MDVP:Shimmer(dB)', 'Shimmer:APQ3', 'Shimmer:APQ5',\n",
    "       'MDVP:APQ', 'Shimmer:DDA', 'NHR', 'HNR', 'RPDE', 'DFA',\n",
    "       'spread1', 'spread2', 'D2', 'PPE']]\n",
    "y= df['status']"
   ]
  },
  {
   "cell_type": "code",
   "execution_count": 8,
   "metadata": {},
   "outputs": [],
   "source": [
    "x_train, x_test, y_train,y_test = train_test_split(X,y, random_state = 1, test_size = 0.3)"
   ]
  },
  {
   "cell_type": "code",
   "execution_count": 9,
   "metadata": {},
   "outputs": [],
   "source": [
    "gr= df.groupby(df['status'])"
   ]
  },
  {
   "cell_type": "code",
   "execution_count": 10,
   "metadata": {},
   "outputs": [],
   "source": [
    "gr1= gr.get_group(0) \n",
    "gr2= gr.get_group(1)"
   ]
  },
  {
   "cell_type": "code",
   "execution_count": 11,
   "metadata": {},
   "outputs": [
    {
     "data": {
      "text/plain": [
       "3.121919402836332e-08"
      ]
     },
     "execution_count": 11,
     "metadata": {},
     "output_type": "execute_result"
    }
   ],
   "source": [
    "f,p= f_oneway(gr1['MDVP:Fo(Hz)'],gr2['MDVP:Fo(Hz)'])\n",
    "p"
   ]
  },
  {
   "cell_type": "code",
   "execution_count": 12,
   "metadata": {},
   "outputs": [
    {
     "data": {
      "text/plain": [
       "0.020275669142798408"
      ]
     },
     "execution_count": 12,
     "metadata": {},
     "output_type": "execute_result"
    }
   ],
   "source": [
    "f,p= f_oneway(gr1['MDVP:Fhi(Hz)'],gr2['MDVP:Fhi(Hz)'])\n",
    "p"
   ]
  },
  {
   "cell_type": "code",
   "execution_count": 13,
   "metadata": {},
   "outputs": [
    {
     "data": {
      "text/plain": [
       "4.1970041821535477e-08"
      ]
     },
     "execution_count": 13,
     "metadata": {},
     "output_type": "execute_result"
    }
   ],
   "source": [
    "f,p= f_oneway(gr1['MDVP:Flo(Hz)'],gr2['MDVP:Flo(Hz)'])\n",
    "p"
   ]
  },
  {
   "cell_type": "code",
   "execution_count": 14,
   "metadata": {},
   "outputs": [
    {
     "data": {
      "text/plain": [
       "8.209989250843925e-05"
      ]
     },
     "execution_count": 14,
     "metadata": {},
     "output_type": "execute_result"
    }
   ],
   "source": [
    "f,p= f_oneway(gr1['MDVP:Jitter(%)'],gr2['MDVP:Jitter(%)'])\n",
    "p"
   ]
  },
  {
   "cell_type": "code",
   "execution_count": 15,
   "metadata": {},
   "outputs": [
    {
     "data": {
      "text/plain": [
       "1.2822523240682387e-06"
      ]
     },
     "execution_count": 15,
     "metadata": {},
     "output_type": "execute_result"
    }
   ],
   "source": [
    "f,p= f_oneway(gr1['MDVP:Jitter(Abs)'],gr2['MDVP:Jitter(Abs)'])\n",
    "p"
   ]
  },
  {
   "cell_type": "code",
   "execution_count": 16,
   "metadata": {},
   "outputs": [
    {
     "data": {
      "text/plain": [
       "0.0001643393410195311"
      ]
     },
     "execution_count": 16,
     "metadata": {},
     "output_type": "execute_result"
    }
   ],
   "source": [
    "f,p= f_oneway(gr1['MDVP:RAP'],gr2['MDVP:RAP'])\n",
    "p"
   ]
  },
  {
   "cell_type": "code",
   "execution_count": 17,
   "metadata": {},
   "outputs": [
    {
     "data": {
      "text/plain": [
       "4.257766523261872e-05"
      ]
     },
     "execution_count": 17,
     "metadata": {},
     "output_type": "execute_result"
    }
   ],
   "source": [
    "f,p= f_oneway(gr1['MDVP:PPQ'],gr2['MDVP:PPQ'])\n",
    "p"
   ]
  },
  {
   "cell_type": "code",
   "execution_count": 18,
   "metadata": {},
   "outputs": [
    {
     "data": {
      "text/plain": [
       "0.00016454664474031298"
      ]
     },
     "execution_count": 18,
     "metadata": {},
     "output_type": "execute_result"
    }
   ],
   "source": [
    "f,p= f_oneway(gr1['Jitter:DDP'],gr2['Jitter:DDP'])\n",
    "p"
   ]
  },
  {
   "cell_type": "code",
   "execution_count": 19,
   "metadata": {},
   "outputs": [
    {
     "data": {
      "text/plain": [
       "1.2647022896752661e-07"
      ]
     },
     "execution_count": 19,
     "metadata": {},
     "output_type": "execute_result"
    }
   ],
   "source": [
    "f,p= f_oneway(gr1['MDVP:Shimmer'],gr2['MDVP:Shimmer'])\n",
    "p"
   ]
  },
  {
   "cell_type": "code",
   "execution_count": 20,
   "metadata": {},
   "outputs": [
    {
     "data": {
      "text/plain": [
       "5.000743178590638e-07"
      ]
     },
     "execution_count": 20,
     "metadata": {},
     "output_type": "execute_result"
    }
   ],
   "source": [
    "f,p= f_oneway(gr1['MDVP:Shimmer(dB)'],gr2['MDVP:Shimmer(dB)'])\n",
    "p"
   ]
  },
  {
   "cell_type": "code",
   "execution_count": 21,
   "metadata": {},
   "outputs": [
    {
     "data": {
      "text/plain": [
       "6.386194089451467e-07"
      ]
     },
     "execution_count": 21,
     "metadata": {},
     "output_type": "execute_result"
    }
   ],
   "source": [
    "f,p= f_oneway(gr1['Shimmer:APQ3'],gr2['Shimmer:APQ3'])\n",
    "p"
   ]
  },
  {
   "cell_type": "code",
   "execution_count": 22,
   "metadata": {},
   "outputs": [
    {
     "data": {
      "text/plain": [
       "4.82357514488572e-07"
      ]
     },
     "execution_count": 22,
     "metadata": {},
     "output_type": "execute_result"
    }
   ],
   "source": [
    "f,p= f_oneway(gr1['Shimmer:APQ5'],gr2['Shimmer:APQ5'])\n",
    "p"
   ]
  },
  {
   "cell_type": "code",
   "execution_count": 23,
   "metadata": {},
   "outputs": [
    {
     "data": {
      "text/plain": [
       "1.6432377654660142e-07"
      ]
     },
     "execution_count": 23,
     "metadata": {},
     "output_type": "execute_result"
    }
   ],
   "source": [
    "f,p= f_oneway(gr1['MDVP:APQ'],gr2['MDVP:APQ'])\n",
    "p"
   ]
  },
  {
   "cell_type": "code",
   "execution_count": 24,
   "metadata": {},
   "outputs": [
    {
     "data": {
      "text/plain": [
       "6.390538560329779e-07"
      ]
     },
     "execution_count": 24,
     "metadata": {},
     "output_type": "execute_result"
    }
   ],
   "source": [
    "f,p= f_oneway(gr1['Shimmer:DDA'],gr2['Shimmer:DDA'])\n",
    "p"
   ]
  },
  {
   "cell_type": "code",
   "execution_count": 25,
   "metadata": {},
   "outputs": [
    {
     "data": {
      "text/plain": [
       "0.007994850518899843"
      ]
     },
     "execution_count": 25,
     "metadata": {},
     "output_type": "execute_result"
    }
   ],
   "source": [
    "f,p= f_oneway(gr1['NHR'],gr2['NHR'])\n",
    "p"
   ]
  },
  {
   "cell_type": "code",
   "execution_count": 26,
   "metadata": {},
   "outputs": [
    {
     "data": {
      "text/plain": [
       "2.074677359679702e-07"
      ]
     },
     "execution_count": 26,
     "metadata": {},
     "output_type": "execute_result"
    }
   ],
   "source": [
    "f,p= f_oneway(gr1['HNR'],gr2['HNR'])\n",
    "p"
   ]
  },
  {
   "cell_type": "code",
   "execution_count": 27,
   "metadata": {},
   "outputs": [
    {
     "data": {
      "text/plain": [
       "1.1398962455333769e-05"
      ]
     },
     "execution_count": 27,
     "metadata": {},
     "output_type": "execute_result"
    }
   ],
   "source": [
    "f,p= f_oneway(gr1['RPDE'],gr2['RPDE'])\n",
    "p"
   ]
  },
  {
   "cell_type": "code",
   "execution_count": 28,
   "metadata": {},
   "outputs": [
    {
     "data": {
      "text/plain": [
       "0.001115115879842905"
      ]
     },
     "execution_count": 28,
     "metadata": {},
     "output_type": "execute_result"
    }
   ],
   "source": [
    "f,p= f_oneway(gr1['DFA'],gr2['DFA'])\n",
    "p"
   ]
  },
  {
   "cell_type": "code",
   "execution_count": 29,
   "metadata": {},
   "outputs": [
    {
     "data": {
      "text/plain": [
       "0.001115115879842905"
      ]
     },
     "execution_count": 29,
     "metadata": {},
     "output_type": "execute_result"
    }
   ],
   "source": [
    "f,p= f_oneway(gr1['DFA'],gr2['DFA'])\n",
    "p"
   ]
  },
  {
   "cell_type": "code",
   "execution_count": 30,
   "metadata": {},
   "outputs": [
    {
     "data": {
      "text/plain": [
       "7.909650873104612e-18"
      ]
     },
     "execution_count": 30,
     "metadata": {},
     "output_type": "execute_result"
    }
   ],
   "source": [
    "f,p= f_oneway(gr1['spread1'],gr2['spread1'])\n",
    "p"
   ]
  },
  {
   "cell_type": "code",
   "execution_count": 31,
   "metadata": {},
   "outputs": [
    {
     "data": {
      "text/plain": [
       "2.3917287623712665e-11"
      ]
     },
     "execution_count": 31,
     "metadata": {},
     "output_type": "execute_result"
    }
   ],
   "source": [
    "f,p= f_oneway(gr1['spread2'],gr2['spread2'])\n",
    "p"
   ]
  },
  {
   "cell_type": "code",
   "execution_count": 32,
   "metadata": {},
   "outputs": [
    {
     "data": {
      "text/plain": [
       "1.1359246053142801e-06"
      ]
     },
     "execution_count": 32,
     "metadata": {},
     "output_type": "execute_result"
    }
   ],
   "source": [
    "f,p= f_oneway(gr1['D2'],gr2['D2'])\n",
    "p"
   ]
  },
  {
   "cell_type": "code",
   "execution_count": 33,
   "metadata": {},
   "outputs": [
    {
     "data": {
      "text/plain": [
       "1.3926186153164145e-15"
      ]
     },
     "execution_count": 33,
     "metadata": {},
     "output_type": "execute_result"
    }
   ],
   "source": [
    "f,p= f_oneway(gr1['PPE'],gr2['PPE'])\n",
    "p"
   ]
  },
  {
   "cell_type": "code",
   "execution_count": 34,
   "metadata": {},
   "outputs": [],
   "source": [
    "df2= df.drop(columns = 'status',axis =1)\n",
    "df2= df.drop(columns = 'name',axis =1)"
   ]
  },
  {
   "cell_type": "code",
   "execution_count": 35,
   "metadata": {},
   "outputs": [
    {
     "data": {
      "text/plain": [
       "Index(['MDVP:Fo(Hz)', 'MDVP:Fhi(Hz)', 'MDVP:Flo(Hz)', 'MDVP:Jitter(%)',\n",
       "       'MDVP:Jitter(Abs)', 'MDVP:RAP', 'MDVP:PPQ', 'Jitter:DDP',\n",
       "       'MDVP:Shimmer', 'MDVP:Shimmer(dB)', 'Shimmer:APQ3', 'Shimmer:APQ5',\n",
       "       'MDVP:APQ', 'Shimmer:DDA', 'NHR', 'HNR', 'status', 'RPDE', 'DFA',\n",
       "       'spread1', 'spread2', 'D2', 'PPE'],\n",
       "      dtype='object')"
      ]
     },
     "execution_count": 35,
     "metadata": {},
     "output_type": "execute_result"
    }
   ],
   "source": [
    "df2.columns"
   ]
  },
  {
   "cell_type": "code",
   "execution_count": 36,
   "metadata": {},
   "outputs": [
    {
     "data": {
      "text/html": [
       "<div>\n",
       "<style scoped>\n",
       "    .dataframe tbody tr th:only-of-type {\n",
       "        vertical-align: middle;\n",
       "    }\n",
       "\n",
       "    .dataframe tbody tr th {\n",
       "        vertical-align: top;\n",
       "    }\n",
       "\n",
       "    .dataframe thead th {\n",
       "        text-align: right;\n",
       "    }\n",
       "</style>\n",
       "<table border=\"1\" class=\"dataframe\">\n",
       "  <thead>\n",
       "    <tr style=\"text-align: right;\">\n",
       "      <th></th>\n",
       "      <th>MDVP:Fo(Hz)</th>\n",
       "      <th>MDVP:Fhi(Hz)</th>\n",
       "      <th>MDVP:Flo(Hz)</th>\n",
       "      <th>MDVP:Jitter(%)</th>\n",
       "      <th>MDVP:Jitter(Abs)</th>\n",
       "      <th>MDVP:RAP</th>\n",
       "      <th>MDVP:PPQ</th>\n",
       "      <th>Jitter:DDP</th>\n",
       "      <th>MDVP:Shimmer</th>\n",
       "      <th>MDVP:Shimmer(dB)</th>\n",
       "      <th>...</th>\n",
       "      <th>Shimmer:DDA</th>\n",
       "      <th>NHR</th>\n",
       "      <th>HNR</th>\n",
       "      <th>status</th>\n",
       "      <th>RPDE</th>\n",
       "      <th>DFA</th>\n",
       "      <th>spread1</th>\n",
       "      <th>spread2</th>\n",
       "      <th>D2</th>\n",
       "      <th>PPE</th>\n",
       "    </tr>\n",
       "  </thead>\n",
       "  <tbody>\n",
       "    <tr>\n",
       "      <th>MDVP:Fo(Hz)</th>\n",
       "      <td>1.000000</td>\n",
       "      <td>0.400985</td>\n",
       "      <td>0.596546</td>\n",
       "      <td>-0.118003</td>\n",
       "      <td>-0.382027</td>\n",
       "      <td>-0.076194</td>\n",
       "      <td>-0.112165</td>\n",
       "      <td>-0.076213</td>\n",
       "      <td>-0.098374</td>\n",
       "      <td>-0.073742</td>\n",
       "      <td>...</td>\n",
       "      <td>-0.094732</td>\n",
       "      <td>-0.021981</td>\n",
       "      <td>0.059144</td>\n",
       "      <td>-0.383535</td>\n",
       "      <td>-0.383894</td>\n",
       "      <td>-0.446013</td>\n",
       "      <td>-0.413738</td>\n",
       "      <td>-0.249450</td>\n",
       "      <td>0.177980</td>\n",
       "      <td>-0.372356</td>\n",
       "    </tr>\n",
       "    <tr>\n",
       "      <th>MDVP:Fhi(Hz)</th>\n",
       "      <td>0.400985</td>\n",
       "      <td>1.000000</td>\n",
       "      <td>0.084951</td>\n",
       "      <td>0.102086</td>\n",
       "      <td>-0.029198</td>\n",
       "      <td>0.097177</td>\n",
       "      <td>0.091126</td>\n",
       "      <td>0.097150</td>\n",
       "      <td>0.002281</td>\n",
       "      <td>0.043465</td>\n",
       "      <td>...</td>\n",
       "      <td>-0.003733</td>\n",
       "      <td>0.163766</td>\n",
       "      <td>-0.024893</td>\n",
       "      <td>-0.166136</td>\n",
       "      <td>-0.112404</td>\n",
       "      <td>-0.343097</td>\n",
       "      <td>-0.076658</td>\n",
       "      <td>-0.002954</td>\n",
       "      <td>0.176323</td>\n",
       "      <td>-0.069543</td>\n",
       "    </tr>\n",
       "    <tr>\n",
       "      <th>MDVP:Flo(Hz)</th>\n",
       "      <td>0.596546</td>\n",
       "      <td>0.084951</td>\n",
       "      <td>1.000000</td>\n",
       "      <td>-0.139919</td>\n",
       "      <td>-0.277815</td>\n",
       "      <td>-0.100519</td>\n",
       "      <td>-0.095828</td>\n",
       "      <td>-0.100488</td>\n",
       "      <td>-0.144543</td>\n",
       "      <td>-0.119089</td>\n",
       "      <td>...</td>\n",
       "      <td>-0.150737</td>\n",
       "      <td>-0.108670</td>\n",
       "      <td>0.210851</td>\n",
       "      <td>-0.380200</td>\n",
       "      <td>-0.400143</td>\n",
       "      <td>-0.050406</td>\n",
       "      <td>-0.394857</td>\n",
       "      <td>-0.243829</td>\n",
       "      <td>-0.100629</td>\n",
       "      <td>-0.340071</td>\n",
       "    </tr>\n",
       "    <tr>\n",
       "      <th>MDVP:Jitter(%)</th>\n",
       "      <td>-0.118003</td>\n",
       "      <td>0.102086</td>\n",
       "      <td>-0.139919</td>\n",
       "      <td>1.000000</td>\n",
       "      <td>0.935714</td>\n",
       "      <td>0.990276</td>\n",
       "      <td>0.974256</td>\n",
       "      <td>0.990276</td>\n",
       "      <td>0.769063</td>\n",
       "      <td>0.804289</td>\n",
       "      <td>...</td>\n",
       "      <td>0.746635</td>\n",
       "      <td>0.906959</td>\n",
       "      <td>-0.728165</td>\n",
       "      <td>0.278220</td>\n",
       "      <td>0.360673</td>\n",
       "      <td>0.098572</td>\n",
       "      <td>0.693577</td>\n",
       "      <td>0.385123</td>\n",
       "      <td>0.433434</td>\n",
       "      <td>0.721543</td>\n",
       "    </tr>\n",
       "    <tr>\n",
       "      <th>MDVP:Jitter(Abs)</th>\n",
       "      <td>-0.382027</td>\n",
       "      <td>-0.029198</td>\n",
       "      <td>-0.277815</td>\n",
       "      <td>0.935714</td>\n",
       "      <td>1.000000</td>\n",
       "      <td>0.922911</td>\n",
       "      <td>0.897778</td>\n",
       "      <td>0.922913</td>\n",
       "      <td>0.703322</td>\n",
       "      <td>0.716601</td>\n",
       "      <td>...</td>\n",
       "      <td>0.697170</td>\n",
       "      <td>0.834972</td>\n",
       "      <td>-0.656810</td>\n",
       "      <td>0.338653</td>\n",
       "      <td>0.441839</td>\n",
       "      <td>0.175036</td>\n",
       "      <td>0.735779</td>\n",
       "      <td>0.388543</td>\n",
       "      <td>0.310694</td>\n",
       "      <td>0.748162</td>\n",
       "    </tr>\n",
       "    <tr>\n",
       "      <th>MDVP:RAP</th>\n",
       "      <td>-0.076194</td>\n",
       "      <td>0.097177</td>\n",
       "      <td>-0.100519</td>\n",
       "      <td>0.990276</td>\n",
       "      <td>0.922911</td>\n",
       "      <td>1.000000</td>\n",
       "      <td>0.957317</td>\n",
       "      <td>1.000000</td>\n",
       "      <td>0.759581</td>\n",
       "      <td>0.790652</td>\n",
       "      <td>...</td>\n",
       "      <td>0.744919</td>\n",
       "      <td>0.919521</td>\n",
       "      <td>-0.721543</td>\n",
       "      <td>0.266668</td>\n",
       "      <td>0.342140</td>\n",
       "      <td>0.064083</td>\n",
       "      <td>0.648328</td>\n",
       "      <td>0.324407</td>\n",
       "      <td>0.426605</td>\n",
       "      <td>0.670999</td>\n",
       "    </tr>\n",
       "    <tr>\n",
       "      <th>MDVP:PPQ</th>\n",
       "      <td>-0.112165</td>\n",
       "      <td>0.091126</td>\n",
       "      <td>-0.095828</td>\n",
       "      <td>0.974256</td>\n",
       "      <td>0.897778</td>\n",
       "      <td>0.957317</td>\n",
       "      <td>1.000000</td>\n",
       "      <td>0.957319</td>\n",
       "      <td>0.797826</td>\n",
       "      <td>0.839239</td>\n",
       "      <td>...</td>\n",
       "      <td>0.763592</td>\n",
       "      <td>0.844604</td>\n",
       "      <td>-0.731510</td>\n",
       "      <td>0.288698</td>\n",
       "      <td>0.333274</td>\n",
       "      <td>0.196301</td>\n",
       "      <td>0.716489</td>\n",
       "      <td>0.407605</td>\n",
       "      <td>0.412524</td>\n",
       "      <td>0.769647</td>\n",
       "    </tr>\n",
       "    <tr>\n",
       "      <th>Jitter:DDP</th>\n",
       "      <td>-0.076213</td>\n",
       "      <td>0.097150</td>\n",
       "      <td>-0.100488</td>\n",
       "      <td>0.990276</td>\n",
       "      <td>0.922913</td>\n",
       "      <td>1.000000</td>\n",
       "      <td>0.957319</td>\n",
       "      <td>1.000000</td>\n",
       "      <td>0.759555</td>\n",
       "      <td>0.790621</td>\n",
       "      <td>...</td>\n",
       "      <td>0.744901</td>\n",
       "      <td>0.919548</td>\n",
       "      <td>-0.721494</td>\n",
       "      <td>0.266646</td>\n",
       "      <td>0.342079</td>\n",
       "      <td>0.064026</td>\n",
       "      <td>0.648328</td>\n",
       "      <td>0.324377</td>\n",
       "      <td>0.426556</td>\n",
       "      <td>0.671005</td>\n",
       "    </tr>\n",
       "    <tr>\n",
       "      <th>MDVP:Shimmer</th>\n",
       "      <td>-0.098374</td>\n",
       "      <td>0.002281</td>\n",
       "      <td>-0.144543</td>\n",
       "      <td>0.769063</td>\n",
       "      <td>0.703322</td>\n",
       "      <td>0.759581</td>\n",
       "      <td>0.797826</td>\n",
       "      <td>0.759555</td>\n",
       "      <td>1.000000</td>\n",
       "      <td>0.987258</td>\n",
       "      <td>...</td>\n",
       "      <td>0.987626</td>\n",
       "      <td>0.722194</td>\n",
       "      <td>-0.835271</td>\n",
       "      <td>0.367430</td>\n",
       "      <td>0.447424</td>\n",
       "      <td>0.159954</td>\n",
       "      <td>0.654734</td>\n",
       "      <td>0.452025</td>\n",
       "      <td>0.507088</td>\n",
       "      <td>0.693771</td>\n",
       "    </tr>\n",
       "    <tr>\n",
       "      <th>MDVP:Shimmer(dB)</th>\n",
       "      <td>-0.073742</td>\n",
       "      <td>0.043465</td>\n",
       "      <td>-0.119089</td>\n",
       "      <td>0.804289</td>\n",
       "      <td>0.716601</td>\n",
       "      <td>0.790652</td>\n",
       "      <td>0.839239</td>\n",
       "      <td>0.790621</td>\n",
       "      <td>0.987258</td>\n",
       "      <td>1.000000</td>\n",
       "      <td>...</td>\n",
       "      <td>0.963202</td>\n",
       "      <td>0.744477</td>\n",
       "      <td>-0.827805</td>\n",
       "      <td>0.350697</td>\n",
       "      <td>0.410684</td>\n",
       "      <td>0.165157</td>\n",
       "      <td>0.652547</td>\n",
       "      <td>0.454314</td>\n",
       "      <td>0.512233</td>\n",
       "      <td>0.695058</td>\n",
       "    </tr>\n",
       "    <tr>\n",
       "      <th>Shimmer:APQ3</th>\n",
       "      <td>-0.094717</td>\n",
       "      <td>-0.003743</td>\n",
       "      <td>-0.150747</td>\n",
       "      <td>0.746625</td>\n",
       "      <td>0.697153</td>\n",
       "      <td>0.744912</td>\n",
       "      <td>0.763580</td>\n",
       "      <td>0.744894</td>\n",
       "      <td>0.987625</td>\n",
       "      <td>0.963198</td>\n",
       "      <td>...</td>\n",
       "      <td>1.000000</td>\n",
       "      <td>0.716207</td>\n",
       "      <td>-0.827123</td>\n",
       "      <td>0.347617</td>\n",
       "      <td>0.435242</td>\n",
       "      <td>0.151124</td>\n",
       "      <td>0.610967</td>\n",
       "      <td>0.402243</td>\n",
       "      <td>0.467265</td>\n",
       "      <td>0.645377</td>\n",
       "    </tr>\n",
       "    <tr>\n",
       "      <th>Shimmer:APQ5</th>\n",
       "      <td>-0.070682</td>\n",
       "      <td>-0.009997</td>\n",
       "      <td>-0.101095</td>\n",
       "      <td>0.725561</td>\n",
       "      <td>0.648961</td>\n",
       "      <td>0.709927</td>\n",
       "      <td>0.786780</td>\n",
       "      <td>0.709907</td>\n",
       "      <td>0.982835</td>\n",
       "      <td>0.973751</td>\n",
       "      <td>...</td>\n",
       "      <td>0.960072</td>\n",
       "      <td>0.658080</td>\n",
       "      <td>-0.813753</td>\n",
       "      <td>0.351148</td>\n",
       "      <td>0.399903</td>\n",
       "      <td>0.213873</td>\n",
       "      <td>0.646809</td>\n",
       "      <td>0.457195</td>\n",
       "      <td>0.502174</td>\n",
       "      <td>0.702456</td>\n",
       "    </tr>\n",
       "    <tr>\n",
       "      <th>MDVP:APQ</th>\n",
       "      <td>-0.077774</td>\n",
       "      <td>0.004937</td>\n",
       "      <td>-0.107293</td>\n",
       "      <td>0.758255</td>\n",
       "      <td>0.648793</td>\n",
       "      <td>0.737455</td>\n",
       "      <td>0.804139</td>\n",
       "      <td>0.737439</td>\n",
       "      <td>0.950083</td>\n",
       "      <td>0.960977</td>\n",
       "      <td>...</td>\n",
       "      <td>0.896647</td>\n",
       "      <td>0.694019</td>\n",
       "      <td>-0.800407</td>\n",
       "      <td>0.364316</td>\n",
       "      <td>0.451379</td>\n",
       "      <td>0.157276</td>\n",
       "      <td>0.673158</td>\n",
       "      <td>0.502188</td>\n",
       "      <td>0.536869</td>\n",
       "      <td>0.721694</td>\n",
       "    </tr>\n",
       "    <tr>\n",
       "      <th>Shimmer:DDA</th>\n",
       "      <td>-0.094732</td>\n",
       "      <td>-0.003733</td>\n",
       "      <td>-0.150737</td>\n",
       "      <td>0.746635</td>\n",
       "      <td>0.697170</td>\n",
       "      <td>0.744919</td>\n",
       "      <td>0.763592</td>\n",
       "      <td>0.744901</td>\n",
       "      <td>0.987626</td>\n",
       "      <td>0.963202</td>\n",
       "      <td>...</td>\n",
       "      <td>1.000000</td>\n",
       "      <td>0.716215</td>\n",
       "      <td>-0.827130</td>\n",
       "      <td>0.347608</td>\n",
       "      <td>0.435237</td>\n",
       "      <td>0.151132</td>\n",
       "      <td>0.610971</td>\n",
       "      <td>0.402223</td>\n",
       "      <td>0.467261</td>\n",
       "      <td>0.645389</td>\n",
       "    </tr>\n",
       "    <tr>\n",
       "      <th>NHR</th>\n",
       "      <td>-0.021981</td>\n",
       "      <td>0.163766</td>\n",
       "      <td>-0.108670</td>\n",
       "      <td>0.906959</td>\n",
       "      <td>0.834972</td>\n",
       "      <td>0.919521</td>\n",
       "      <td>0.844604</td>\n",
       "      <td>0.919548</td>\n",
       "      <td>0.722194</td>\n",
       "      <td>0.744477</td>\n",
       "      <td>...</td>\n",
       "      <td>0.716215</td>\n",
       "      <td>1.000000</td>\n",
       "      <td>-0.714072</td>\n",
       "      <td>0.189429</td>\n",
       "      <td>0.370890</td>\n",
       "      <td>-0.131882</td>\n",
       "      <td>0.540865</td>\n",
       "      <td>0.318099</td>\n",
       "      <td>0.470949</td>\n",
       "      <td>0.552591</td>\n",
       "    </tr>\n",
       "    <tr>\n",
       "      <th>HNR</th>\n",
       "      <td>0.059144</td>\n",
       "      <td>-0.024893</td>\n",
       "      <td>0.210851</td>\n",
       "      <td>-0.728165</td>\n",
       "      <td>-0.656810</td>\n",
       "      <td>-0.721543</td>\n",
       "      <td>-0.731510</td>\n",
       "      <td>-0.721494</td>\n",
       "      <td>-0.835271</td>\n",
       "      <td>-0.827805</td>\n",
       "      <td>...</td>\n",
       "      <td>-0.827130</td>\n",
       "      <td>-0.714072</td>\n",
       "      <td>1.000000</td>\n",
       "      <td>-0.361515</td>\n",
       "      <td>-0.598736</td>\n",
       "      <td>-0.008665</td>\n",
       "      <td>-0.673210</td>\n",
       "      <td>-0.431564</td>\n",
       "      <td>-0.601401</td>\n",
       "      <td>-0.692876</td>\n",
       "    </tr>\n",
       "    <tr>\n",
       "      <th>status</th>\n",
       "      <td>-0.383535</td>\n",
       "      <td>-0.166136</td>\n",
       "      <td>-0.380200</td>\n",
       "      <td>0.278220</td>\n",
       "      <td>0.338653</td>\n",
       "      <td>0.266668</td>\n",
       "      <td>0.288698</td>\n",
       "      <td>0.266646</td>\n",
       "      <td>0.367430</td>\n",
       "      <td>0.350697</td>\n",
       "      <td>...</td>\n",
       "      <td>0.347608</td>\n",
       "      <td>0.189429</td>\n",
       "      <td>-0.361515</td>\n",
       "      <td>1.000000</td>\n",
       "      <td>0.308567</td>\n",
       "      <td>0.231739</td>\n",
       "      <td>0.564838</td>\n",
       "      <td>0.454842</td>\n",
       "      <td>0.340232</td>\n",
       "      <td>0.531039</td>\n",
       "    </tr>\n",
       "    <tr>\n",
       "      <th>RPDE</th>\n",
       "      <td>-0.383894</td>\n",
       "      <td>-0.112404</td>\n",
       "      <td>-0.400143</td>\n",
       "      <td>0.360673</td>\n",
       "      <td>0.441839</td>\n",
       "      <td>0.342140</td>\n",
       "      <td>0.333274</td>\n",
       "      <td>0.342079</td>\n",
       "      <td>0.447424</td>\n",
       "      <td>0.410684</td>\n",
       "      <td>...</td>\n",
       "      <td>0.435237</td>\n",
       "      <td>0.370890</td>\n",
       "      <td>-0.598736</td>\n",
       "      <td>0.308567</td>\n",
       "      <td>1.000000</td>\n",
       "      <td>-0.110950</td>\n",
       "      <td>0.591117</td>\n",
       "      <td>0.479905</td>\n",
       "      <td>0.236931</td>\n",
       "      <td>0.545886</td>\n",
       "    </tr>\n",
       "    <tr>\n",
       "      <th>DFA</th>\n",
       "      <td>-0.446013</td>\n",
       "      <td>-0.343097</td>\n",
       "      <td>-0.050406</td>\n",
       "      <td>0.098572</td>\n",
       "      <td>0.175036</td>\n",
       "      <td>0.064083</td>\n",
       "      <td>0.196301</td>\n",
       "      <td>0.064026</td>\n",
       "      <td>0.159954</td>\n",
       "      <td>0.165157</td>\n",
       "      <td>...</td>\n",
       "      <td>0.151132</td>\n",
       "      <td>-0.131882</td>\n",
       "      <td>-0.008665</td>\n",
       "      <td>0.231739</td>\n",
       "      <td>-0.110950</td>\n",
       "      <td>1.000000</td>\n",
       "      <td>0.195668</td>\n",
       "      <td>0.166548</td>\n",
       "      <td>-0.165381</td>\n",
       "      <td>0.270445</td>\n",
       "    </tr>\n",
       "    <tr>\n",
       "      <th>spread1</th>\n",
       "      <td>-0.413738</td>\n",
       "      <td>-0.076658</td>\n",
       "      <td>-0.394857</td>\n",
       "      <td>0.693577</td>\n",
       "      <td>0.735779</td>\n",
       "      <td>0.648328</td>\n",
       "      <td>0.716489</td>\n",
       "      <td>0.648328</td>\n",
       "      <td>0.654734</td>\n",
       "      <td>0.652547</td>\n",
       "      <td>...</td>\n",
       "      <td>0.610971</td>\n",
       "      <td>0.540865</td>\n",
       "      <td>-0.673210</td>\n",
       "      <td>0.564838</td>\n",
       "      <td>0.591117</td>\n",
       "      <td>0.195668</td>\n",
       "      <td>1.000000</td>\n",
       "      <td>0.652358</td>\n",
       "      <td>0.495123</td>\n",
       "      <td>0.962435</td>\n",
       "    </tr>\n",
       "    <tr>\n",
       "      <th>spread2</th>\n",
       "      <td>-0.249450</td>\n",
       "      <td>-0.002954</td>\n",
       "      <td>-0.243829</td>\n",
       "      <td>0.385123</td>\n",
       "      <td>0.388543</td>\n",
       "      <td>0.324407</td>\n",
       "      <td>0.407605</td>\n",
       "      <td>0.324377</td>\n",
       "      <td>0.452025</td>\n",
       "      <td>0.454314</td>\n",
       "      <td>...</td>\n",
       "      <td>0.402223</td>\n",
       "      <td>0.318099</td>\n",
       "      <td>-0.431564</td>\n",
       "      <td>0.454842</td>\n",
       "      <td>0.479905</td>\n",
       "      <td>0.166548</td>\n",
       "      <td>0.652358</td>\n",
       "      <td>1.000000</td>\n",
       "      <td>0.523532</td>\n",
       "      <td>0.644711</td>\n",
       "    </tr>\n",
       "    <tr>\n",
       "      <th>D2</th>\n",
       "      <td>0.177980</td>\n",
       "      <td>0.176323</td>\n",
       "      <td>-0.100629</td>\n",
       "      <td>0.433434</td>\n",
       "      <td>0.310694</td>\n",
       "      <td>0.426605</td>\n",
       "      <td>0.412524</td>\n",
       "      <td>0.426556</td>\n",
       "      <td>0.507088</td>\n",
       "      <td>0.512233</td>\n",
       "      <td>...</td>\n",
       "      <td>0.467261</td>\n",
       "      <td>0.470949</td>\n",
       "      <td>-0.601401</td>\n",
       "      <td>0.340232</td>\n",
       "      <td>0.236931</td>\n",
       "      <td>-0.165381</td>\n",
       "      <td>0.495123</td>\n",
       "      <td>0.523532</td>\n",
       "      <td>1.000000</td>\n",
       "      <td>0.480585</td>\n",
       "    </tr>\n",
       "    <tr>\n",
       "      <th>PPE</th>\n",
       "      <td>-0.372356</td>\n",
       "      <td>-0.069543</td>\n",
       "      <td>-0.340071</td>\n",
       "      <td>0.721543</td>\n",
       "      <td>0.748162</td>\n",
       "      <td>0.670999</td>\n",
       "      <td>0.769647</td>\n",
       "      <td>0.671005</td>\n",
       "      <td>0.693771</td>\n",
       "      <td>0.695058</td>\n",
       "      <td>...</td>\n",
       "      <td>0.645389</td>\n",
       "      <td>0.552591</td>\n",
       "      <td>-0.692876</td>\n",
       "      <td>0.531039</td>\n",
       "      <td>0.545886</td>\n",
       "      <td>0.270445</td>\n",
       "      <td>0.962435</td>\n",
       "      <td>0.644711</td>\n",
       "      <td>0.480585</td>\n",
       "      <td>1.000000</td>\n",
       "    </tr>\n",
       "  </tbody>\n",
       "</table>\n",
       "<p>23 rows × 23 columns</p>\n",
       "</div>"
      ],
      "text/plain": [
       "                  MDVP:Fo(Hz)  MDVP:Fhi(Hz)  MDVP:Flo(Hz)  MDVP:Jitter(%)  \\\n",
       "MDVP:Fo(Hz)          1.000000      0.400985      0.596546       -0.118003   \n",
       "MDVP:Fhi(Hz)         0.400985      1.000000      0.084951        0.102086   \n",
       "MDVP:Flo(Hz)         0.596546      0.084951      1.000000       -0.139919   \n",
       "MDVP:Jitter(%)      -0.118003      0.102086     -0.139919        1.000000   \n",
       "MDVP:Jitter(Abs)    -0.382027     -0.029198     -0.277815        0.935714   \n",
       "MDVP:RAP            -0.076194      0.097177     -0.100519        0.990276   \n",
       "MDVP:PPQ            -0.112165      0.091126     -0.095828        0.974256   \n",
       "Jitter:DDP          -0.076213      0.097150     -0.100488        0.990276   \n",
       "MDVP:Shimmer        -0.098374      0.002281     -0.144543        0.769063   \n",
       "MDVP:Shimmer(dB)    -0.073742      0.043465     -0.119089        0.804289   \n",
       "Shimmer:APQ3        -0.094717     -0.003743     -0.150747        0.746625   \n",
       "Shimmer:APQ5        -0.070682     -0.009997     -0.101095        0.725561   \n",
       "MDVP:APQ            -0.077774      0.004937     -0.107293        0.758255   \n",
       "Shimmer:DDA         -0.094732     -0.003733     -0.150737        0.746635   \n",
       "NHR                 -0.021981      0.163766     -0.108670        0.906959   \n",
       "HNR                  0.059144     -0.024893      0.210851       -0.728165   \n",
       "status              -0.383535     -0.166136     -0.380200        0.278220   \n",
       "RPDE                -0.383894     -0.112404     -0.400143        0.360673   \n",
       "DFA                 -0.446013     -0.343097     -0.050406        0.098572   \n",
       "spread1             -0.413738     -0.076658     -0.394857        0.693577   \n",
       "spread2             -0.249450     -0.002954     -0.243829        0.385123   \n",
       "D2                   0.177980      0.176323     -0.100629        0.433434   \n",
       "PPE                 -0.372356     -0.069543     -0.340071        0.721543   \n",
       "\n",
       "                  MDVP:Jitter(Abs)  MDVP:RAP  MDVP:PPQ  Jitter:DDP  \\\n",
       "MDVP:Fo(Hz)              -0.382027 -0.076194 -0.112165   -0.076213   \n",
       "MDVP:Fhi(Hz)             -0.029198  0.097177  0.091126    0.097150   \n",
       "MDVP:Flo(Hz)             -0.277815 -0.100519 -0.095828   -0.100488   \n",
       "MDVP:Jitter(%)            0.935714  0.990276  0.974256    0.990276   \n",
       "MDVP:Jitter(Abs)          1.000000  0.922911  0.897778    0.922913   \n",
       "MDVP:RAP                  0.922911  1.000000  0.957317    1.000000   \n",
       "MDVP:PPQ                  0.897778  0.957317  1.000000    0.957319   \n",
       "Jitter:DDP                0.922913  1.000000  0.957319    1.000000   \n",
       "MDVP:Shimmer              0.703322  0.759581  0.797826    0.759555   \n",
       "MDVP:Shimmer(dB)          0.716601  0.790652  0.839239    0.790621   \n",
       "Shimmer:APQ3              0.697153  0.744912  0.763580    0.744894   \n",
       "Shimmer:APQ5              0.648961  0.709927  0.786780    0.709907   \n",
       "MDVP:APQ                  0.648793  0.737455  0.804139    0.737439   \n",
       "Shimmer:DDA               0.697170  0.744919  0.763592    0.744901   \n",
       "NHR                       0.834972  0.919521  0.844604    0.919548   \n",
       "HNR                      -0.656810 -0.721543 -0.731510   -0.721494   \n",
       "status                    0.338653  0.266668  0.288698    0.266646   \n",
       "RPDE                      0.441839  0.342140  0.333274    0.342079   \n",
       "DFA                       0.175036  0.064083  0.196301    0.064026   \n",
       "spread1                   0.735779  0.648328  0.716489    0.648328   \n",
       "spread2                   0.388543  0.324407  0.407605    0.324377   \n",
       "D2                        0.310694  0.426605  0.412524    0.426556   \n",
       "PPE                       0.748162  0.670999  0.769647    0.671005   \n",
       "\n",
       "                  MDVP:Shimmer  MDVP:Shimmer(dB)    ...     Shimmer:DDA  \\\n",
       "MDVP:Fo(Hz)          -0.098374         -0.073742    ...       -0.094732   \n",
       "MDVP:Fhi(Hz)          0.002281          0.043465    ...       -0.003733   \n",
       "MDVP:Flo(Hz)         -0.144543         -0.119089    ...       -0.150737   \n",
       "MDVP:Jitter(%)        0.769063          0.804289    ...        0.746635   \n",
       "MDVP:Jitter(Abs)      0.703322          0.716601    ...        0.697170   \n",
       "MDVP:RAP              0.759581          0.790652    ...        0.744919   \n",
       "MDVP:PPQ              0.797826          0.839239    ...        0.763592   \n",
       "Jitter:DDP            0.759555          0.790621    ...        0.744901   \n",
       "MDVP:Shimmer          1.000000          0.987258    ...        0.987626   \n",
       "MDVP:Shimmer(dB)      0.987258          1.000000    ...        0.963202   \n",
       "Shimmer:APQ3          0.987625          0.963198    ...        1.000000   \n",
       "Shimmer:APQ5          0.982835          0.973751    ...        0.960072   \n",
       "MDVP:APQ              0.950083          0.960977    ...        0.896647   \n",
       "Shimmer:DDA           0.987626          0.963202    ...        1.000000   \n",
       "NHR                   0.722194          0.744477    ...        0.716215   \n",
       "HNR                  -0.835271         -0.827805    ...       -0.827130   \n",
       "status                0.367430          0.350697    ...        0.347608   \n",
       "RPDE                  0.447424          0.410684    ...        0.435237   \n",
       "DFA                   0.159954          0.165157    ...        0.151132   \n",
       "spread1               0.654734          0.652547    ...        0.610971   \n",
       "spread2               0.452025          0.454314    ...        0.402223   \n",
       "D2                    0.507088          0.512233    ...        0.467261   \n",
       "PPE                   0.693771          0.695058    ...        0.645389   \n",
       "\n",
       "                       NHR       HNR    status      RPDE       DFA   spread1  \\\n",
       "MDVP:Fo(Hz)      -0.021981  0.059144 -0.383535 -0.383894 -0.446013 -0.413738   \n",
       "MDVP:Fhi(Hz)      0.163766 -0.024893 -0.166136 -0.112404 -0.343097 -0.076658   \n",
       "MDVP:Flo(Hz)     -0.108670  0.210851 -0.380200 -0.400143 -0.050406 -0.394857   \n",
       "MDVP:Jitter(%)    0.906959 -0.728165  0.278220  0.360673  0.098572  0.693577   \n",
       "MDVP:Jitter(Abs)  0.834972 -0.656810  0.338653  0.441839  0.175036  0.735779   \n",
       "MDVP:RAP          0.919521 -0.721543  0.266668  0.342140  0.064083  0.648328   \n",
       "MDVP:PPQ          0.844604 -0.731510  0.288698  0.333274  0.196301  0.716489   \n",
       "Jitter:DDP        0.919548 -0.721494  0.266646  0.342079  0.064026  0.648328   \n",
       "MDVP:Shimmer      0.722194 -0.835271  0.367430  0.447424  0.159954  0.654734   \n",
       "MDVP:Shimmer(dB)  0.744477 -0.827805  0.350697  0.410684  0.165157  0.652547   \n",
       "Shimmer:APQ3      0.716207 -0.827123  0.347617  0.435242  0.151124  0.610967   \n",
       "Shimmer:APQ5      0.658080 -0.813753  0.351148  0.399903  0.213873  0.646809   \n",
       "MDVP:APQ          0.694019 -0.800407  0.364316  0.451379  0.157276  0.673158   \n",
       "Shimmer:DDA       0.716215 -0.827130  0.347608  0.435237  0.151132  0.610971   \n",
       "NHR               1.000000 -0.714072  0.189429  0.370890 -0.131882  0.540865   \n",
       "HNR              -0.714072  1.000000 -0.361515 -0.598736 -0.008665 -0.673210   \n",
       "status            0.189429 -0.361515  1.000000  0.308567  0.231739  0.564838   \n",
       "RPDE              0.370890 -0.598736  0.308567  1.000000 -0.110950  0.591117   \n",
       "DFA              -0.131882 -0.008665  0.231739 -0.110950  1.000000  0.195668   \n",
       "spread1           0.540865 -0.673210  0.564838  0.591117  0.195668  1.000000   \n",
       "spread2           0.318099 -0.431564  0.454842  0.479905  0.166548  0.652358   \n",
       "D2                0.470949 -0.601401  0.340232  0.236931 -0.165381  0.495123   \n",
       "PPE               0.552591 -0.692876  0.531039  0.545886  0.270445  0.962435   \n",
       "\n",
       "                   spread2        D2       PPE  \n",
       "MDVP:Fo(Hz)      -0.249450  0.177980 -0.372356  \n",
       "MDVP:Fhi(Hz)     -0.002954  0.176323 -0.069543  \n",
       "MDVP:Flo(Hz)     -0.243829 -0.100629 -0.340071  \n",
       "MDVP:Jitter(%)    0.385123  0.433434  0.721543  \n",
       "MDVP:Jitter(Abs)  0.388543  0.310694  0.748162  \n",
       "MDVP:RAP          0.324407  0.426605  0.670999  \n",
       "MDVP:PPQ          0.407605  0.412524  0.769647  \n",
       "Jitter:DDP        0.324377  0.426556  0.671005  \n",
       "MDVP:Shimmer      0.452025  0.507088  0.693771  \n",
       "MDVP:Shimmer(dB)  0.454314  0.512233  0.695058  \n",
       "Shimmer:APQ3      0.402243  0.467265  0.645377  \n",
       "Shimmer:APQ5      0.457195  0.502174  0.702456  \n",
       "MDVP:APQ          0.502188  0.536869  0.721694  \n",
       "Shimmer:DDA       0.402223  0.467261  0.645389  \n",
       "NHR               0.318099  0.470949  0.552591  \n",
       "HNR              -0.431564 -0.601401 -0.692876  \n",
       "status            0.454842  0.340232  0.531039  \n",
       "RPDE              0.479905  0.236931  0.545886  \n",
       "DFA               0.166548 -0.165381  0.270445  \n",
       "spread1           0.652358  0.495123  0.962435  \n",
       "spread2           1.000000  0.523532  0.644711  \n",
       "D2                0.523532  1.000000  0.480585  \n",
       "PPE               0.644711  0.480585  1.000000  \n",
       "\n",
       "[23 rows x 23 columns]"
      ]
     },
     "execution_count": 36,
     "metadata": {},
     "output_type": "execute_result"
    }
   ],
   "source": [
    "df.corr()"
   ]
  },
  {
   "cell_type": "code",
   "execution_count": 37,
   "metadata": {},
   "outputs": [
    {
     "data": {
      "text/plain": [
       "Index(['name', 'MDVP:Fo(Hz)', 'MDVP:Fhi(Hz)', 'MDVP:Flo(Hz)', 'MDVP:Jitter(%)',\n",
       "       'MDVP:Jitter(Abs)', 'MDVP:RAP', 'MDVP:PPQ', 'Jitter:DDP',\n",
       "       'MDVP:Shimmer', 'MDVP:Shimmer(dB)', 'Shimmer:APQ3', 'Shimmer:APQ5',\n",
       "       'MDVP:APQ', 'Shimmer:DDA', 'NHR', 'HNR', 'status', 'RPDE', 'DFA',\n",
       "       'spread1', 'spread2', 'D2', 'PPE'],\n",
       "      dtype='object')"
      ]
     },
     "execution_count": 37,
     "metadata": {},
     "output_type": "execute_result"
    }
   ],
   "source": [
    "df.columns"
   ]
  },
  {
   "cell_type": "code",
   "execution_count": 26,
   "metadata": {},
   "outputs": [],
   "source": [
    "# we have performed the anaova test because one vraible is continous and other is categorical"
   ]
  },
  {
   "cell_type": "code",
   "execution_count": 72,
   "metadata": {},
   "outputs": [],
   "source": [
    "# we will inculde all those variable in our modeling for which the p value is less then 0.05 "
   ]
  },
  {
   "cell_type": "code",
   "execution_count": 73,
   "metadata": {},
   "outputs": [],
   "source": [
    "# here we see that every variable is having p val less then 0.05 hence to a certain extent each variable is contributing"
   ]
  },
  {
   "cell_type": "code",
   "execution_count": 38,
   "metadata": {},
   "outputs": [
    {
     "data": {
      "text/plain": [
       "array([1, 1, 1, 1, 1, 1, 1, 1, 1, 1, 1, 0, 1, 1, 1, 0, 1, 1, 1, 1, 0, 1,\n",
       "       1, 1, 1, 1, 1, 0, 1, 0, 1, 1, 1, 1, 1, 1, 0, 1, 0, 1, 1, 1, 1, 0,\n",
       "       1, 1, 1, 1, 1, 1, 0, 1, 1, 0, 1, 1, 0, 1, 0], dtype=int64)"
      ]
     },
     "execution_count": 38,
     "metadata": {},
     "output_type": "execute_result"
    }
   ],
   "source": [
    "# fitting the model\n",
    "m1 = LogisticRegression()\n",
    "m1.fit(x_train,y_train)\n",
    "y_pre = m1.predict(x_test)\n",
    "y_pre\n",
    "#m1.score(X,y)"
   ]
  },
  {
   "cell_type": "code",
   "execution_count": 39,
   "metadata": {},
   "outputs": [
    {
     "data": {
      "text/plain": [
       "48"
      ]
     },
     "execution_count": 39,
     "metadata": {},
     "output_type": "execute_result"
    }
   ],
   "source": [
    "sum(y_pre == y_test)"
   ]
  },
  {
   "cell_type": "code",
   "execution_count": 40,
   "metadata": {},
   "outputs": [
    {
     "name": "stdout",
     "output_type": "stream",
     "text": [
      "[[10  9]\n",
      " [ 2 38]]\n"
     ]
    }
   ],
   "source": [
    "cm3= metrics.confusion_matrix(y_test,y_pre)\n",
    "print(cm3)"
   ]
  },
  {
   "cell_type": "code",
   "execution_count": 41,
   "metadata": {},
   "outputs": [
    {
     "data": {
      "text/html": [
       "<div>\n",
       "<style scoped>\n",
       "    .dataframe tbody tr th:only-of-type {\n",
       "        vertical-align: middle;\n",
       "    }\n",
       "\n",
       "    .dataframe tbody tr th {\n",
       "        vertical-align: top;\n",
       "    }\n",
       "\n",
       "    .dataframe thead th {\n",
       "        text-align: right;\n",
       "    }\n",
       "</style>\n",
       "<table border=\"1\" class=\"dataframe\">\n",
       "  <thead>\n",
       "    <tr style=\"text-align: right;\">\n",
       "      <th>col_0</th>\n",
       "      <th>0</th>\n",
       "      <th>1</th>\n",
       "    </tr>\n",
       "    <tr>\n",
       "      <th>status</th>\n",
       "      <th></th>\n",
       "      <th></th>\n",
       "    </tr>\n",
       "  </thead>\n",
       "  <tbody>\n",
       "    <tr>\n",
       "      <th>0</th>\n",
       "      <td>10</td>\n",
       "      <td>9</td>\n",
       "    </tr>\n",
       "    <tr>\n",
       "      <th>1</th>\n",
       "      <td>2</td>\n",
       "      <td>38</td>\n",
       "    </tr>\n",
       "  </tbody>\n",
       "</table>\n",
       "</div>"
      ],
      "text/plain": [
       "col_0    0   1\n",
       "status        \n",
       "0       10   9\n",
       "1        2  38"
      ]
     },
     "execution_count": 41,
     "metadata": {},
     "output_type": "execute_result"
    }
   ],
   "source": [
    "pd.crosstab(y_test,y_pre)"
   ]
  },
  {
   "cell_type": "code",
   "execution_count": 42,
   "metadata": {},
   "outputs": [
    {
     "name": "stdout",
     "output_type": "stream",
     "text": [
      "81.35593220338984\n"
     ]
    }
   ],
   "source": [
    "acc=metrics.accuracy_score(y_test,y_pre)\n",
    "print(acc*100)"
   ]
  },
  {
   "cell_type": "code",
   "execution_count": 43,
   "metadata": {},
   "outputs": [
    {
     "name": "stdout",
     "output_type": "stream",
     "text": [
      "             precision    recall  f1-score   support\n",
      "\n",
      "          0       0.83      0.53      0.65        19\n",
      "          1       0.81      0.95      0.87        40\n",
      "\n",
      "avg / total       0.82      0.81      0.80        59\n",
      "\n"
     ]
    }
   ],
   "source": [
    "from sklearn.metrics import classification_report\n",
    "print(classification_report(y_test, y_pre))"
   ]
  },
  {
   "cell_type": "code",
   "execution_count": 44,
   "metadata": {},
   "outputs": [
    {
     "data": {
      "text/plain": [
       "(array([0.        , 0.47368421, 1.        ]),\n",
       " array([0.  , 0.95, 1.  ]),\n",
       " array([2, 1, 0], dtype=int64))"
      ]
     },
     "execution_count": 44,
     "metadata": {},
     "output_type": "execute_result"
    }
   ],
   "source": [
    "fpr,tpr,_ = roc_curve(y_test,y_pre)\n",
    "fpr,tpr,_"
   ]
  },
  {
   "cell_type": "code",
   "execution_count": 45,
   "metadata": {},
   "outputs": [],
   "source": [
    "# here our true postive rate that  is recall or sesnitivity  is 95% and our main aim is focussed on recall because detcting the pd \n",
    "# is more important . If a person is having disease and if it is not detected then it is more harmful. and if a person is not having disaese\n",
    "#and it is detected as disease then it is less harmful since he might go some other clinic for checkup or there is possibility that \n",
    "# beacause of certain features and obseravtions it is possible that in near future he needs to take some kind of treatment beacuse prevention is better then cure"
   ]
  },
  {
   "cell_type": "code",
   "execution_count": 46,
   "metadata": {},
   "outputs": [
    {
     "name": "stdout",
     "output_type": "stream",
     "text": [
      "0.7381578947368421\n"
     ]
    },
    {
     "data": {
      "text/plain": [
       "<Figure size 432x288 with 0 Axes>"
      ]
     },
     "execution_count": 46,
     "metadata": {},
     "output_type": "execute_result"
    },
    {
     "data": {
      "image/png": "[encoded data removed]",
      "text/plain": [
       "<Figure size 432x288 with 1 Axes>"
      ]
     },
     "metadata": {
      "needs_background": "light"
     },
     "output_type": "display_data"
    },
    {
     "data": {
      "text/plain": [
       "<Figure size 432x288 with 0 Axes>"
      ]
     },
     "metadata": {},
     "output_type": "display_data"
    }
   ],
   "source": [
    "roc_auc= auc(fpr,tpr)\n",
    "plt.plot(fpr,tpr)\n",
    "print(roc_auc)\n",
    "plt.figure()\n",
    "#plt.xlim([0.0,0.1])\n",
    "#plt.ylim([0.0,0.1])"
   ]
  },
  {
   "cell_type": "code",
   "execution_count": 1,
   "metadata": {},
   "outputs": [],
   "source": [
    "# since the model is having roc value of 0.73 hence it falls under the category of good"
   ]
  },
  {
   "cell_type": "code",
   "execution_count": 81,
   "metadata": {},
   "outputs": [],
   "source": [
    "from sklearn.tree import DecisionTreeClassifier"
   ]
  },
  {
   "cell_type": "code",
   "execution_count": 82,
   "metadata": {},
   "outputs": [],
   "source": [
    "m_1=DecisionTreeClassifier()"
   ]
  },
  {
   "cell_type": "code",
   "execution_count": 83,
   "metadata": {},
   "outputs": [],
   "source": [
    "data_tree=m_1.fit(x_train,y_train)"
   ]
  },
  {
   "cell_type": "code",
   "execution_count": 84,
   "metadata": {},
   "outputs": [],
   "source": [
    "y_predict=m_1.predict(x_test)"
   ]
  },
  {
   "cell_type": "code",
   "execution_count": 85,
   "metadata": {},
   "outputs": [],
   "source": [
    "rmse1=np.sqrt(np.sum((y_test-y_predict)**2)/len(y_test))"
   ]
  },
  {
   "cell_type": "code",
   "execution_count": 86,
   "metadata": {},
   "outputs": [],
   "source": [
    "mse=(np.sum((y_test-y_predict)**2)/len(y_test))"
   ]
  },
  {
   "cell_type": "code",
   "execution_count": 87,
   "metadata": {},
   "outputs": [
    {
     "data": {
      "text/plain": [
       "0.1016949152542373"
      ]
     },
     "execution_count": 87,
     "metadata": {},
     "output_type": "execute_result"
    }
   ],
   "source": [
    "mse"
   ]
  },
  {
   "cell_type": "code",
   "execution_count": 88,
   "metadata": {},
   "outputs": [
    {
     "data": {
      "text/plain": [
       "0.31889640207164033"
      ]
     },
     "execution_count": 88,
     "metadata": {},
     "output_type": "execute_result"
    }
   ],
   "source": [
    "rmse1"
   ]
  },
  {
   "cell_type": "code",
   "execution_count": 89,
   "metadata": {},
   "outputs": [
    {
     "data": {
      "text/plain": [
       "0.8983050847457628"
      ]
     },
     "execution_count": 89,
     "metadata": {},
     "output_type": "execute_result"
    }
   ],
   "source": [
    "data_tree.score(x_test,y_test)"
   ]
  },
  {
   "cell_type": "code",
   "execution_count": 100,
   "metadata": {},
   "outputs": [],
   "source": [
    "from sklearn.ensemble import BaggingClassifier"
   ]
  },
  {
   "cell_type": "code",
   "execution_count": 101,
   "metadata": {},
   "outputs": [],
   "source": [
    "bagg= BaggingClassifier(n_estimators=5,bootstrap=True,oob_score=True)"
   ]
  },
  {
   "cell_type": "code",
   "execution_count": 102,
   "metadata": {},
   "outputs": [
    {
     "name": "stderr",
     "output_type": "stream",
     "text": [
      "C:\\Users\\AKSHAY\\Anaconda3\\lib\\site-packages\\sklearn\\ensemble\\bagging.py:605: UserWarning: Some inputs do not have OOB scores. This probably means too few estimators were used to compute any reliable oob estimates.\n",
      "  warn(\"Some inputs do not have OOB scores. \"\n",
      "C:\\Users\\AKSHAY\\Anaconda3\\lib\\site-packages\\sklearn\\ensemble\\bagging.py:610: RuntimeWarning: invalid value encountered in true_divide\n",
      "  predictions.sum(axis=1)[:, np.newaxis])\n"
     ]
    }
   ],
   "source": [
    "dt_bagg=bagg.fit(x_train,y_train)"
   ]
  },
  {
   "cell_type": "code",
   "execution_count": 103,
   "metadata": {},
   "outputs": [],
   "source": [
    "pred_bagg_dt=bagg.predict(x_test)"
   ]
  },
  {
   "cell_type": "code",
   "execution_count": 104,
   "metadata": {},
   "outputs": [],
   "source": [
    "rmse_dt_bagg=np.sqrt(np.sum((y_test-pred_bagg_dt)**2)/len(y_test))"
   ]
  },
  {
   "cell_type": "code",
   "execution_count": 105,
   "metadata": {},
   "outputs": [
    {
     "data": {
      "text/plain": [
       "0.4317877695883728"
      ]
     },
     "execution_count": 105,
     "metadata": {},
     "output_type": "execute_result"
    }
   ],
   "source": [
    "rmse_dt_bagg"
   ]
  },
  {
   "cell_type": "code",
   "execution_count": 106,
   "metadata": {},
   "outputs": [],
   "source": [
    "mse_dt_bagg=(np.sum((y_test-pred_bagg_dt)**2)/len(y_test))"
   ]
  },
  {
   "cell_type": "code",
   "execution_count": 107,
   "metadata": {},
   "outputs": [
    {
     "data": {
      "text/plain": [
       "0.1016949152542373"
      ]
     },
     "execution_count": 107,
     "metadata": {},
     "output_type": "execute_result"
    }
   ],
   "source": [
    "mse"
   ]
  },
  {
   "cell_type": "code",
   "execution_count": 108,
   "metadata": {},
   "outputs": [
    {
     "data": {
      "text/plain": [
       "0.8135593220338984"
      ]
     },
     "execution_count": 108,
     "metadata": {},
     "output_type": "execute_result"
    }
   ],
   "source": [
    "dt_bagg.score(x_test,y_test)"
   ]
  },
  {
   "cell_type": "code",
   "execution_count": 67,
   "metadata": {},
   "outputs": [],
   "source": [
    "#implementing RandomForestRegressor"
   ]
  },
  {
   "cell_type": "code",
   "execution_count": 74,
   "metadata": {},
   "outputs": [],
   "source": [
    "from sklearn.ensemble import RandomForestClassifier"
   ]
  },
  {
   "cell_type": "code",
   "execution_count": 75,
   "metadata": {},
   "outputs": [],
   "source": [
    "rf =RandomForestClassifier()"
   ]
  },
  {
   "cell_type": "code",
   "execution_count": 76,
   "metadata": {},
   "outputs": [],
   "source": [
    "data_rf=rf.fit(x_train,y_train)"
   ]
  },
  {
   "cell_type": "code",
   "execution_count": 77,
   "metadata": {},
   "outputs": [],
   "source": [
    "y_predict3=rf.predict(x_test)"
   ]
  },
  {
   "cell_type": "code",
   "execution_count": 78,
   "metadata": {},
   "outputs": [],
   "source": [
    "rmse3=np.sqrt(np.sum((y_test-y_predict3)**2)/len(y_test))"
   ]
  },
  {
   "cell_type": "code",
   "execution_count": 79,
   "metadata": {},
   "outputs": [
    {
     "data": {
      "text/plain": [
       "0.46940279403817725"
      ]
     },
     "execution_count": 79,
     "metadata": {},
     "output_type": "execute_result"
    }
   ],
   "source": [
    "rmse3"
   ]
  },
  {
   "cell_type": "code",
   "execution_count": 80,
   "metadata": {},
   "outputs": [
    {
     "data": {
      "text/plain": [
       "0.7796610169491526"
      ]
     },
     "execution_count": 80,
     "metadata": {},
     "output_type": "execute_result"
    }
   ],
   "source": [
    "data_rf.score(x_test,y_test)"
   ]
  },
  {
   "cell_type": "code",
   "execution_count": 99,
   "metadata": {},
   "outputs": [],
   "source": [
    "from sklearn.ensemble import BaggingClassifier"
   ]
  },
  {
   "cell_type": "code",
   "execution_count": 109,
   "metadata": {},
   "outputs": [],
   "source": [
    "bagg= BaggingClassifier(n_estimators=5,bootstrap=True,oob_score=True)"
   ]
  },
  {
   "cell_type": "code",
   "execution_count": 110,
   "metadata": {},
   "outputs": [
    {
     "name": "stderr",
     "output_type": "stream",
     "text": [
      "C:\\Users\\AKSHAY\\Anaconda3\\lib\\site-packages\\sklearn\\ensemble\\bagging.py:605: UserWarning: Some inputs do not have OOB scores. This probably means too few estimators were used to compute any reliable oob estimates.\n",
      "  warn(\"Some inputs do not have OOB scores. \"\n",
      "C:\\Users\\AKSHAY\\Anaconda3\\lib\\site-packages\\sklearn\\ensemble\\bagging.py:610: RuntimeWarning: invalid value encountered in true_divide\n",
      "  predictions.sum(axis=1)[:, np.newaxis])\n"
     ]
    }
   ],
   "source": [
    "rf_bagg=bagg.fit(x_train,y_train)"
   ]
  },
  {
   "cell_type": "code",
   "execution_count": 111,
   "metadata": {},
   "outputs": [],
   "source": [
    "pred_bagg_rf=bagg.predict(x_test)"
   ]
  },
  {
   "cell_type": "code",
   "execution_count": 112,
   "metadata": {},
   "outputs": [],
   "source": [
    "rmse_rf_bagg=np.sqrt(np.sum((y_test-pred_bagg_rf)**2)/len(y_test))"
   ]
  },
  {
   "cell_type": "code",
   "execution_count": 113,
   "metadata": {},
   "outputs": [
    {
     "data": {
      "text/plain": [
       "0.34444748191358604"
      ]
     },
     "execution_count": 113,
     "metadata": {},
     "output_type": "execute_result"
    }
   ],
   "source": [
    "rmse_rf_bagg"
   ]
  },
  {
   "cell_type": "code",
   "execution_count": 114,
   "metadata": {},
   "outputs": [
    {
     "data": {
      "text/plain": [
       "0.11864406779661017"
      ]
     },
     "execution_count": 114,
     "metadata": {},
     "output_type": "execute_result"
    }
   ],
   "source": [
    "mse=(np.sum((y_test-pred_bagg_rf)**2)/len(y_test))\n",
    "mse"
   ]
  },
  {
   "cell_type": "code",
   "execution_count": 115,
   "metadata": {},
   "outputs": [
    {
     "data": {
      "text/plain": [
       "0.8813559322033898"
      ]
     },
     "execution_count": 115,
     "metadata": {},
     "output_type": "execute_result"
    }
   ],
   "source": [
    "rf_bagg.score(x_test,y_test)"
   ]
  },
  {
   "cell_type": "markdown",
   "metadata": {},
   "source": [
    "# So,best model for this problem is RandomforestClassifier"
   ]
  },
  {
   "cell_type": "code",
   "execution_count": null,
   "metadata": {},
   "outputs": [],
   "source": []
  }
 ],
 "metadata": {
  "kernelspec": {
   "display_name": "Python 3",
   "language": "python",
   "name": "python3"
  },
  "language_info": {
   "codemirror_mode": {
    "name": "ipython",
    "version": 3
   },
   "file_extension": ".py",
   "mimetype": "text/x-python",
   "name": "python",
   "nbconvert_exporter": "python",
   "pygments_lexer": "ipython3",
   "version": "3.7.0"
  }
 },
 "nbformat": 4,
 "nbformat_minor": 2
}
