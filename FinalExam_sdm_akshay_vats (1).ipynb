{
 "cells": [
  {
   "cell_type": "code",
   "execution_count": 1,
   "metadata": {},
   "outputs": [],
   "source": [
    "import numpy as np\n",
    "import pandas as pd\n",
    "import matplotlib.pyplot as plt\n",
    "%matplotlib inline\n",
    "#libraries for decision tree\n",
    "from sklearn.externals.six import StringIO\n",
    "from IPython.display import Image   #to view the image of the tree\n",
    "from sklearn.tree import export_graphviz\n",
    "import pydotplus\n",
    "from sklearn import tree\n",
    "# knn \n",
    "from sklearn.preprocessing import StandardScaler\n",
    "from sklearn.neighbors import KNeighborsClassifier\n",
    "import scipy.stats as stats\n",
    "import pylab as plot"
   ]
  },
  {
   "cell_type": "code",
   "execution_count": 2,
   "metadata": {},
   "outputs": [
    {
     "name": "stderr",
     "output_type": "stream",
     "text": [
      "C:\\Users\\AKSHAY\\Anaconda3\\lib\\site-packages\\sklearn\\cross_validation.py:41: DeprecationWarning: This module was deprecated in version 0.18 in favor of the model_selection module into which all the refactored classes and functions are moved. Also note that the interface of the new CV iterators are different from that of this module. This module will be removed in 0.20.\n",
      "  \"This module will be removed in 0.20.\", DeprecationWarning)\n"
     ]
    }
   ],
   "source": [
    "import numpy as np\n",
    "import pandas as pd \n",
    "import matplotlib.pyplot as plt\n",
    "%matplotlib inline\n",
    "import seaborn as sns\n",
    "import scipy.stats as stats \n",
    "#import linear regression machine learning library\n",
    "from sklearn.linear_model import LinearRegression,LogisticRegression\n",
    "import statsmodels.formula.api as smf\n",
    "#pckage to split data into train and test\n",
    "from sklearn.model_selection import train_test_split\n",
    "# polynomial feature\n",
    "from sklearn.preprocessing import PolynomialFeatures\n",
    "# calculating confusion matricss\n",
    "from sklearn import metrics\n",
    "#for roc and auc curve\n",
    "from sklearn.metrics import roc_curve, auc\n",
    "# for cross validation\n",
    "from sklearn.cross_validation import cross_val_score"
   ]
  },
  {
   "cell_type": "code",
   "execution_count": 3,
   "metadata": {},
   "outputs": [],
   "source": [
    "data = pd.read_csv('datafile.csv')"
   ]
  },
  {
   "cell_type": "code",
   "execution_count": 4,
   "metadata": {},
   "outputs": [
    {
     "data": {
      "text/html": [
       "<div>\n",
       "<style scoped>\n",
       "    .dataframe tbody tr th:only-of-type {\n",
       "        vertical-align: middle;\n",
       "    }\n",
       "\n",
       "    .dataframe tbody tr th {\n",
       "        vertical-align: top;\n",
       "    }\n",
       "\n",
       "    .dataframe thead th {\n",
       "        text-align: right;\n",
       "    }\n",
       "</style>\n",
       "<table border=\"1\" class=\"dataframe\">\n",
       "  <thead>\n",
       "    <tr style=\"text-align: right;\">\n",
       "      <th></th>\n",
       "      <th>S. No. (Col.1)</th>\n",
       "      <th>State/UT (Col.2)</th>\n",
       "      <th>No. of Cases in which Arms# Seized (Col.3)</th>\n",
       "      <th>Fire Arms - No. of Un-licensed/ Improvised/ Crude/ Country-made Arms (Col.4)</th>\n",
       "      <th>Fire Arms - No. of Licensed/ Factory Made Arms (Col.5)</th>\n",
       "      <th>Fire Arms - Total Fire Arms Seized (Col.6) = (Col.4 + Col.5)</th>\n",
       "      <th>Other than Fire Arms (Col.7)</th>\n",
       "      <th>Total Arms Seized (Col.8) = (Col.6+ Col.7)</th>\n",
       "      <th>Ammunition Seized (Col.9)</th>\n",
       "    </tr>\n",
       "  </thead>\n",
       "  <tbody>\n",
       "    <tr>\n",
       "      <th>0</th>\n",
       "      <td>1</td>\n",
       "      <td>Andhra Pradesh</td>\n",
       "      <td>41</td>\n",
       "      <td>24</td>\n",
       "      <td>5</td>\n",
       "      <td>29</td>\n",
       "      <td>7</td>\n",
       "      <td>36</td>\n",
       "      <td>3</td>\n",
       "    </tr>\n",
       "    <tr>\n",
       "      <th>1</th>\n",
       "      <td>2</td>\n",
       "      <td>Arunachal Pradesh</td>\n",
       "      <td>31</td>\n",
       "      <td>9</td>\n",
       "      <td>24</td>\n",
       "      <td>33</td>\n",
       "      <td>2</td>\n",
       "      <td>35</td>\n",
       "      <td>1466</td>\n",
       "    </tr>\n",
       "    <tr>\n",
       "      <th>2</th>\n",
       "      <td>3</td>\n",
       "      <td>Assam</td>\n",
       "      <td>324</td>\n",
       "      <td>307</td>\n",
       "      <td>55</td>\n",
       "      <td>362</td>\n",
       "      <td>2</td>\n",
       "      <td>364</td>\n",
       "      <td>4601</td>\n",
       "    </tr>\n",
       "    <tr>\n",
       "      <th>3</th>\n",
       "      <td>4</td>\n",
       "      <td>Bihar</td>\n",
       "      <td>1487</td>\n",
       "      <td>2214</td>\n",
       "      <td>154</td>\n",
       "      <td>2368</td>\n",
       "      <td>369</td>\n",
       "      <td>2737</td>\n",
       "      <td>8892</td>\n",
       "    </tr>\n",
       "    <tr>\n",
       "      <th>4</th>\n",
       "      <td>5</td>\n",
       "      <td>Chhattisgarh</td>\n",
       "      <td>700</td>\n",
       "      <td>312</td>\n",
       "      <td>12</td>\n",
       "      <td>324</td>\n",
       "      <td>415</td>\n",
       "      <td>739</td>\n",
       "      <td>170</td>\n",
       "    </tr>\n",
       "  </tbody>\n",
       "</table>\n",
       "</div>"
      ],
      "text/plain": [
       "   S. No. (Col.1)   State/UT (Col.2)  \\\n",
       "0               1     Andhra Pradesh   \n",
       "1               2  Arunachal Pradesh   \n",
       "2               3              Assam   \n",
       "3               4              Bihar   \n",
       "4               5       Chhattisgarh   \n",
       "\n",
       "   No. of Cases in which Arms# Seized (Col.3)  \\\n",
       "0                                          41   \n",
       "1                                          31   \n",
       "2                                         324   \n",
       "3                                        1487   \n",
       "4                                         700   \n",
       "\n",
       "   Fire Arms - No. of Un-licensed/ Improvised/ Crude/ Country-made Arms (Col.4)  \\\n",
       "0                                                 24                              \n",
       "1                                                  9                              \n",
       "2                                                307                              \n",
       "3                                               2214                              \n",
       "4                                                312                              \n",
       "\n",
       "   Fire Arms - No. of Licensed/ Factory Made Arms (Col.5)  \\\n",
       "0                                                  5        \n",
       "1                                                 24        \n",
       "2                                                 55        \n",
       "3                                                154        \n",
       "4                                                 12        \n",
       "\n",
       "   Fire Arms - Total Fire Arms Seized (Col.6) = (Col.4 + Col.5)  \\\n",
       "0                                                 29              \n",
       "1                                                 33              \n",
       "2                                                362              \n",
       "3                                               2368              \n",
       "4                                                324              \n",
       "\n",
       "   Other than Fire Arms (Col.7)  Total Arms Seized (Col.8) = (Col.6+ Col.7)  \\\n",
       "0                             7                                          36   \n",
       "1                             2                                          35   \n",
       "2                             2                                         364   \n",
       "3                           369                                        2737   \n",
       "4                           415                                         739   \n",
       "\n",
       "   Ammunition Seized (Col.9)  \n",
       "0                          3  \n",
       "1                       1466  \n",
       "2                       4601  \n",
       "3                       8892  \n",
       "4                        170  "
      ]
     },
     "execution_count": 4,
     "metadata": {},
     "output_type": "execute_result"
    }
   ],
   "source": [
    "data.head()"
   ]
  },
  {
   "cell_type": "code",
   "execution_count": 5,
   "metadata": {},
   "outputs": [
    {
     "data": {
      "text/html": [
       "<div>\n",
       "<style scoped>\n",
       "    .dataframe tbody tr th:only-of-type {\n",
       "        vertical-align: middle;\n",
       "    }\n",
       "\n",
       "    .dataframe tbody tr th {\n",
       "        vertical-align: top;\n",
       "    }\n",
       "\n",
       "    .dataframe thead th {\n",
       "        text-align: right;\n",
       "    }\n",
       "</style>\n",
       "<table border=\"1\" class=\"dataframe\">\n",
       "  <thead>\n",
       "    <tr style=\"text-align: right;\">\n",
       "      <th></th>\n",
       "      <th>S. No. (Col.1)</th>\n",
       "      <th>No. of Cases in which Arms# Seized (Col.3)</th>\n",
       "      <th>Fire Arms - No. of Un-licensed/ Improvised/ Crude/ Country-made Arms (Col.4)</th>\n",
       "      <th>Fire Arms - No. of Licensed/ Factory Made Arms (Col.5)</th>\n",
       "      <th>Fire Arms - Total Fire Arms Seized (Col.6) = (Col.4 + Col.5)</th>\n",
       "      <th>Other than Fire Arms (Col.7)</th>\n",
       "      <th>Total Arms Seized (Col.8) = (Col.6+ Col.7)</th>\n",
       "      <th>Ammunition Seized (Col.9)</th>\n",
       "    </tr>\n",
       "  </thead>\n",
       "  <tbody>\n",
       "    <tr>\n",
       "      <th>count</th>\n",
       "      <td>36.000000</td>\n",
       "      <td>36.000000</td>\n",
       "      <td>36.000000</td>\n",
       "      <td>36.000000</td>\n",
       "      <td>36.000000</td>\n",
       "      <td>36.000000</td>\n",
       "      <td>36.000000</td>\n",
       "      <td>36.000000</td>\n",
       "    </tr>\n",
       "    <tr>\n",
       "      <th>mean</th>\n",
       "      <td>18.500000</td>\n",
       "      <td>1498.027778</td>\n",
       "      <td>1001.777778</td>\n",
       "      <td>29.222222</td>\n",
       "      <td>1031.000000</td>\n",
       "      <td>538.888889</td>\n",
       "      <td>1569.888889</td>\n",
       "      <td>2969.444444</td>\n",
       "    </tr>\n",
       "    <tr>\n",
       "      <th>std</th>\n",
       "      <td>10.535654</td>\n",
       "      <td>4732.236243</td>\n",
       "      <td>2903.329164</td>\n",
       "      <td>76.631628</td>\n",
       "      <td>2974.061331</td>\n",
       "      <td>1791.389306</td>\n",
       "      <td>4706.408390</td>\n",
       "      <td>7333.193148</td>\n",
       "    </tr>\n",
       "    <tr>\n",
       "      <th>min</th>\n",
       "      <td>1.000000</td>\n",
       "      <td>0.000000</td>\n",
       "      <td>0.000000</td>\n",
       "      <td>0.000000</td>\n",
       "      <td>0.000000</td>\n",
       "      <td>0.000000</td>\n",
       "      <td>0.000000</td>\n",
       "      <td>0.000000</td>\n",
       "    </tr>\n",
       "    <tr>\n",
       "      <th>25%</th>\n",
       "      <td>9.750000</td>\n",
       "      <td>19.500000</td>\n",
       "      <td>7.000000</td>\n",
       "      <td>1.500000</td>\n",
       "      <td>16.000000</td>\n",
       "      <td>0.000000</td>\n",
       "      <td>19.000000</td>\n",
       "      <td>75.000000</td>\n",
       "    </tr>\n",
       "    <tr>\n",
       "      <th>50%</th>\n",
       "      <td>18.500000</td>\n",
       "      <td>120.000000</td>\n",
       "      <td>119.000000</td>\n",
       "      <td>6.500000</td>\n",
       "      <td>129.500000</td>\n",
       "      <td>5.500000</td>\n",
       "      <td>156.000000</td>\n",
       "      <td>421.000000</td>\n",
       "    </tr>\n",
       "    <tr>\n",
       "      <th>75%</th>\n",
       "      <td>27.250000</td>\n",
       "      <td>632.000000</td>\n",
       "      <td>517.250000</td>\n",
       "      <td>16.250000</td>\n",
       "      <td>543.000000</td>\n",
       "      <td>116.500000</td>\n",
       "      <td>696.250000</td>\n",
       "      <td>2153.250000</td>\n",
       "    </tr>\n",
       "    <tr>\n",
       "      <th>max</th>\n",
       "      <td>36.000000</td>\n",
       "      <td>27227.000000</td>\n",
       "      <td>16990.000000</td>\n",
       "      <td>439.000000</td>\n",
       "      <td>17429.000000</td>\n",
       "      <td>9760.000000</td>\n",
       "      <td>27189.000000</td>\n",
       "      <td>38981.000000</td>\n",
       "    </tr>\n",
       "  </tbody>\n",
       "</table>\n",
       "</div>"
      ],
      "text/plain": [
       "       S. No. (Col.1)  No. of Cases in which Arms# Seized (Col.3)  \\\n",
       "count       36.000000                                   36.000000   \n",
       "mean        18.500000                                 1498.027778   \n",
       "std         10.535654                                 4732.236243   \n",
       "min          1.000000                                    0.000000   \n",
       "25%          9.750000                                   19.500000   \n",
       "50%         18.500000                                  120.000000   \n",
       "75%         27.250000                                  632.000000   \n",
       "max         36.000000                                27227.000000   \n",
       "\n",
       "       Fire Arms - No. of Un-licensed/ Improvised/ Crude/ Country-made Arms (Col.4)  \\\n",
       "count                                          36.000000                              \n",
       "mean                                         1001.777778                              \n",
       "std                                          2903.329164                              \n",
       "min                                             0.000000                              \n",
       "25%                                             7.000000                              \n",
       "50%                                           119.000000                              \n",
       "75%                                           517.250000                              \n",
       "max                                         16990.000000                              \n",
       "\n",
       "       Fire Arms - No. of Licensed/ Factory Made Arms (Col.5)  \\\n",
       "count                                          36.000000        \n",
       "mean                                           29.222222        \n",
       "std                                            76.631628        \n",
       "min                                             0.000000        \n",
       "25%                                             1.500000        \n",
       "50%                                             6.500000        \n",
       "75%                                            16.250000        \n",
       "max                                           439.000000        \n",
       "\n",
       "       Fire Arms - Total Fire Arms Seized (Col.6) = (Col.4 + Col.5)  \\\n",
       "count                                          36.000000              \n",
       "mean                                         1031.000000              \n",
       "std                                          2974.061331              \n",
       "min                                             0.000000              \n",
       "25%                                            16.000000              \n",
       "50%                                           129.500000              \n",
       "75%                                           543.000000              \n",
       "max                                         17429.000000              \n",
       "\n",
       "       Other than Fire Arms (Col.7)  \\\n",
       "count                     36.000000   \n",
       "mean                     538.888889   \n",
       "std                     1791.389306   \n",
       "min                        0.000000   \n",
       "25%                        0.000000   \n",
       "50%                        5.500000   \n",
       "75%                      116.500000   \n",
       "max                     9760.000000   \n",
       "\n",
       "       Total Arms Seized (Col.8) = (Col.6+ Col.7)  Ammunition Seized (Col.9)  \n",
       "count                                   36.000000                  36.000000  \n",
       "mean                                  1569.888889                2969.444444  \n",
       "std                                   4706.408390                7333.193148  \n",
       "min                                      0.000000                   0.000000  \n",
       "25%                                     19.000000                  75.000000  \n",
       "50%                                    156.000000                 421.000000  \n",
       "75%                                    696.250000                2153.250000  \n",
       "max                                  27189.000000               38981.000000  "
      ]
     },
     "execution_count": 5,
     "metadata": {},
     "output_type": "execute_result"
    }
   ],
   "source": [
    "data.describe()"
   ]
  },
  {
   "cell_type": "code",
   "execution_count": 6,
   "metadata": {},
   "outputs": [
    {
     "data": {
      "text/plain": [
       "22.965250965250966"
      ]
     },
     "execution_count": 6,
     "metadata": {},
     "output_type": "execute_result"
    }
   ],
   "source": [
    "2974/129.5"
   ]
  },
  {
   "cell_type": "code",
   "execution_count": 7,
   "metadata": {},
   "outputs": [
    {
     "data": {
      "text/plain": [
       "2296.5"
      ]
     },
     "execution_count": 7,
     "metadata": {},
     "output_type": "execute_result"
    }
   ],
   "source": [
    "22.965*100"
   ]
  },
  {
   "cell_type": "code",
   "execution_count": 8,
   "metadata": {},
   "outputs": [
    {
     "data": {
      "text/plain": [
       "Index(['S. No. (Col.1)', 'State/UT (Col.2)',\n",
       "       'No. of Cases in which Arms# Seized (Col.3)',\n",
       "       'Fire Arms - No. of Un-licensed/ Improvised/ Crude/ Country-made Arms (Col.4)',\n",
       "       'Fire Arms - No. of Licensed/ Factory Made Arms (Col.5)',\n",
       "       'Fire Arms - Total Fire Arms Seized (Col.6) = (Col.4 + Col.5)',\n",
       "       'Other than Fire Arms (Col.7)',\n",
       "       'Total Arms Seized (Col.8) = (Col.6+ Col.7)',\n",
       "       'Ammunition Seized (Col.9)'],\n",
       "      dtype='object')"
      ]
     },
     "execution_count": 8,
     "metadata": {},
     "output_type": "execute_result"
    }
   ],
   "source": [
    "data.columns"
   ]
  },
  {
   "cell_type": "code",
   "execution_count": 10,
   "metadata": {},
   "outputs": [],
   "source": [
    "from scipy.stats import zscore"
   ]
  },
  {
   "cell_type": "code",
   "execution_count": 23,
   "metadata": {},
   "outputs": [
    {
     "data": {
      "text/plain": [
       "<matplotlib.axes._subplots.AxesSubplot at 0xbfc6470>"
      ]
     },
     "execution_count": 23,
     "metadata": {},
     "output_type": "execute_result"
    },
    {
     "data": {
      "image/png": "[encoded data removed]",
      "text/plain": [
       "<Figure size 432x288 with 1 Axes>"
      ]
     },
     "metadata": {
      "needs_background": "light"
     },
     "output_type": "display_data"
    }
   ],
   "source": [
    "data.boxplot()"
   ]
  },
  {
   "cell_type": "code",
   "execution_count": 25,
   "metadata": {},
   "outputs": [],
   "source": [
    "data.columns = ['S. No','State/UT','No. of Cases in which Arms# Seized',\n",
    "                'Fire Arms - No. of Un-licensed/ Improvised/ Crude/ Country-made Arms',\n",
    "                'Fire Arms - No. of Licensed/ Factory Made Arms','Fire Arms - Total Fire Arms Seized',\n",
    "               'Other than Fire Arms','Total Arms Seized','Ammunition Seized']"
   ]
  },
  {
   "cell_type": "code",
   "execution_count": 26,
   "metadata": {},
   "outputs": [
    {
     "data": {
      "text/html": [
       "<div>\n",
       "<style scoped>\n",
       "    .dataframe tbody tr th:only-of-type {\n",
       "        vertical-align: middle;\n",
       "    }\n",
       "\n",
       "    .dataframe tbody tr th {\n",
       "        vertical-align: top;\n",
       "    }\n",
       "\n",
       "    .dataframe thead th {\n",
       "        text-align: right;\n",
       "    }\n",
       "</style>\n",
       "<table border=\"1\" class=\"dataframe\">\n",
       "  <thead>\n",
       "    <tr style=\"text-align: right;\">\n",
       "      <th></th>\n",
       "      <th>S. No</th>\n",
       "      <th>State/UT</th>\n",
       "      <th>No. of Cases in which Arms# Seized</th>\n",
       "      <th>Fire Arms - No. of Un-licensed/ Improvised/ Crude/ Country-made Arms</th>\n",
       "      <th>Fire Arms - No. of Licensed/ Factory Made Arms</th>\n",
       "      <th>Fire Arms - Total Fire Arms Seized</th>\n",
       "      <th>Other than Fire Arms</th>\n",
       "      <th>Total Arms Seized</th>\n",
       "      <th>Ammunition Seized</th>\n",
       "    </tr>\n",
       "  </thead>\n",
       "  <tbody>\n",
       "    <tr>\n",
       "      <th>0</th>\n",
       "      <td>1</td>\n",
       "      <td>Andhra Pradesh</td>\n",
       "      <td>41</td>\n",
       "      <td>24</td>\n",
       "      <td>5</td>\n",
       "      <td>29</td>\n",
       "      <td>7</td>\n",
       "      <td>36</td>\n",
       "      <td>3</td>\n",
       "    </tr>\n",
       "    <tr>\n",
       "      <th>1</th>\n",
       "      <td>2</td>\n",
       "      <td>Arunachal Pradesh</td>\n",
       "      <td>31</td>\n",
       "      <td>9</td>\n",
       "      <td>24</td>\n",
       "      <td>33</td>\n",
       "      <td>2</td>\n",
       "      <td>35</td>\n",
       "      <td>1466</td>\n",
       "    </tr>\n",
       "    <tr>\n",
       "      <th>2</th>\n",
       "      <td>3</td>\n",
       "      <td>Assam</td>\n",
       "      <td>324</td>\n",
       "      <td>307</td>\n",
       "      <td>55</td>\n",
       "      <td>362</td>\n",
       "      <td>2</td>\n",
       "      <td>364</td>\n",
       "      <td>4601</td>\n",
       "    </tr>\n",
       "    <tr>\n",
       "      <th>3</th>\n",
       "      <td>4</td>\n",
       "      <td>Bihar</td>\n",
       "      <td>1487</td>\n",
       "      <td>2214</td>\n",
       "      <td>154</td>\n",
       "      <td>2368</td>\n",
       "      <td>369</td>\n",
       "      <td>2737</td>\n",
       "      <td>8892</td>\n",
       "    </tr>\n",
       "    <tr>\n",
       "      <th>4</th>\n",
       "      <td>5</td>\n",
       "      <td>Chhattisgarh</td>\n",
       "      <td>700</td>\n",
       "      <td>312</td>\n",
       "      <td>12</td>\n",
       "      <td>324</td>\n",
       "      <td>415</td>\n",
       "      <td>739</td>\n",
       "      <td>170</td>\n",
       "    </tr>\n",
       "  </tbody>\n",
       "</table>\n",
       "</div>"
      ],
      "text/plain": [
       "   S. No           State/UT  No. of Cases in which Arms# Seized  \\\n",
       "0      1     Andhra Pradesh                                  41   \n",
       "1      2  Arunachal Pradesh                                  31   \n",
       "2      3              Assam                                 324   \n",
       "3      4              Bihar                                1487   \n",
       "4      5       Chhattisgarh                                 700   \n",
       "\n",
       "   Fire Arms - No. of Un-licensed/ Improvised/ Crude/ Country-made Arms  \\\n",
       "0                                                 24                      \n",
       "1                                                  9                      \n",
       "2                                                307                      \n",
       "3                                               2214                      \n",
       "4                                                312                      \n",
       "\n",
       "   Fire Arms - No. of Licensed/ Factory Made Arms  \\\n",
       "0                                               5   \n",
       "1                                              24   \n",
       "2                                              55   \n",
       "3                                             154   \n",
       "4                                              12   \n",
       "\n",
       "   Fire Arms - Total Fire Arms Seized  Other than Fire Arms  \\\n",
       "0                                  29                     7   \n",
       "1                                  33                     2   \n",
       "2                                 362                     2   \n",
       "3                                2368                   369   \n",
       "4                                 324                   415   \n",
       "\n",
       "   Total Arms Seized  Ammunition Seized  \n",
       "0                 36                  3  \n",
       "1                 35               1466  \n",
       "2                364               4601  \n",
       "3               2737               8892  \n",
       "4                739                170  "
      ]
     },
     "execution_count": 26,
     "metadata": {},
     "output_type": "execute_result"
    }
   ],
   "source": [
    "data.head()"
   ]
  },
  {
   "cell_type": "code",
   "execution_count": 27,
   "metadata": {},
   "outputs": [
    {
     "data": {
      "text/plain": [
       "<matplotlib.axes._subplots.AxesSubplot at 0x87a17b8>"
      ]
     },
     "execution_count": 27,
     "metadata": {},
     "output_type": "execute_result"
    },
    {
     "data": {
      "image/png": "[encoded data removed]",
      "text/plain": [
       "<Figure size 432x288 with 1 Axes>"
      ]
     },
     "metadata": {
      "needs_background": "light"
     },
     "output_type": "display_data"
    }
   ],
   "source": [
    "data.boxplot(column='Fire Arms - Total Fire Arms Seized')"
   ]
  },
  {
   "cell_type": "code",
   "execution_count": 28,
   "metadata": {},
   "outputs": [
    {
     "data": {
      "text/plain": [
       "<matplotlib.axes._subplots.AxesSubplot at 0xc02ae80>"
      ]
     },
     "execution_count": 28,
     "metadata": {},
     "output_type": "execute_result"
    },
    {
     "data": {
      "image/png": "[encoded data removed]",
      "text/plain": [
       "<Figure size 432x288 with 1 Axes>"
      ]
     },
     "metadata": {
      "needs_background": "light"
     },
     "output_type": "display_data"
    }
   ],
   "source": [
    "data['Fire Arms - Total Fire Arms Seized'].hist()"
   ]
  },
  {
   "cell_type": "code",
   "execution_count": 29,
   "metadata": {},
   "outputs": [],
   "source": [
    "data = pd.read_csv('mtcars.csv')"
   ]
  },
  {
   "cell_type": "code",
   "execution_count": 30,
   "metadata": {},
   "outputs": [
    {
     "data": {
      "text/html": [
       "<div>\n",
       "<style scoped>\n",
       "    .dataframe tbody tr th:only-of-type {\n",
       "        vertical-align: middle;\n",
       "    }\n",
       "\n",
       "    .dataframe tbody tr th {\n",
       "        vertical-align: top;\n",
       "    }\n",
       "\n",
       "    .dataframe thead th {\n",
       "        text-align: right;\n",
       "    }\n",
       "</style>\n",
       "<table border=\"1\" class=\"dataframe\">\n",
       "  <thead>\n",
       "    <tr style=\"text-align: right;\">\n",
       "      <th></th>\n",
       "      <th>name</th>\n",
       "      <th>mpg</th>\n",
       "      <th>cyl</th>\n",
       "      <th>disp</th>\n",
       "      <th>hp</th>\n",
       "      <th>drat</th>\n",
       "      <th>wt</th>\n",
       "      <th>qsec</th>\n",
       "      <th>vs</th>\n",
       "      <th>am</th>\n",
       "      <th>gear</th>\n",
       "      <th>carb</th>\n",
       "    </tr>\n",
       "  </thead>\n",
       "  <tbody>\n",
       "    <tr>\n",
       "      <th>0</th>\n",
       "      <td>Mazda RX4</td>\n",
       "      <td>21.0</td>\n",
       "      <td>6</td>\n",
       "      <td>160.0</td>\n",
       "      <td>110</td>\n",
       "      <td>3.90</td>\n",
       "      <td>2.620</td>\n",
       "      <td>16.46</td>\n",
       "      <td>0</td>\n",
       "      <td>1</td>\n",
       "      <td>4</td>\n",
       "      <td>4</td>\n",
       "    </tr>\n",
       "    <tr>\n",
       "      <th>1</th>\n",
       "      <td>Mazda RX4 Wag</td>\n",
       "      <td>21.0</td>\n",
       "      <td>6</td>\n",
       "      <td>160.0</td>\n",
       "      <td>110</td>\n",
       "      <td>3.90</td>\n",
       "      <td>2.875</td>\n",
       "      <td>17.02</td>\n",
       "      <td>0</td>\n",
       "      <td>1</td>\n",
       "      <td>4</td>\n",
       "      <td>4</td>\n",
       "    </tr>\n",
       "    <tr>\n",
       "      <th>2</th>\n",
       "      <td>Datsun 710</td>\n",
       "      <td>22.8</td>\n",
       "      <td>4</td>\n",
       "      <td>108.0</td>\n",
       "      <td>93</td>\n",
       "      <td>3.85</td>\n",
       "      <td>2.320</td>\n",
       "      <td>18.61</td>\n",
       "      <td>1</td>\n",
       "      <td>1</td>\n",
       "      <td>4</td>\n",
       "      <td>1</td>\n",
       "    </tr>\n",
       "    <tr>\n",
       "      <th>3</th>\n",
       "      <td>Hornet 4 Drive</td>\n",
       "      <td>21.4</td>\n",
       "      <td>6</td>\n",
       "      <td>258.0</td>\n",
       "      <td>110</td>\n",
       "      <td>3.08</td>\n",
       "      <td>3.215</td>\n",
       "      <td>19.44</td>\n",
       "      <td>1</td>\n",
       "      <td>0</td>\n",
       "      <td>3</td>\n",
       "      <td>1</td>\n",
       "    </tr>\n",
       "    <tr>\n",
       "      <th>4</th>\n",
       "      <td>Hornet Sportabout</td>\n",
       "      <td>18.7</td>\n",
       "      <td>8</td>\n",
       "      <td>360.0</td>\n",
       "      <td>175</td>\n",
       "      <td>3.15</td>\n",
       "      <td>3.440</td>\n",
       "      <td>17.02</td>\n",
       "      <td>0</td>\n",
       "      <td>0</td>\n",
       "      <td>3</td>\n",
       "      <td>2</td>\n",
       "    </tr>\n",
       "  </tbody>\n",
       "</table>\n",
       "</div>"
      ],
      "text/plain": [
       "                name   mpg  cyl   disp   hp  drat     wt   qsec  vs  am  gear  \\\n",
       "0          Mazda RX4  21.0    6  160.0  110  3.90  2.620  16.46   0   1     4   \n",
       "1      Mazda RX4 Wag  21.0    6  160.0  110  3.90  2.875  17.02   0   1     4   \n",
       "2         Datsun 710  22.8    4  108.0   93  3.85  2.320  18.61   1   1     4   \n",
       "3     Hornet 4 Drive  21.4    6  258.0  110  3.08  3.215  19.44   1   0     3   \n",
       "4  Hornet Sportabout  18.7    8  360.0  175  3.15  3.440  17.02   0   0     3   \n",
       "\n",
       "   carb  \n",
       "0     4  \n",
       "1     4  \n",
       "2     1  \n",
       "3     1  \n",
       "4     2  "
      ]
     },
     "execution_count": 30,
     "metadata": {},
     "output_type": "execute_result"
    }
   ],
   "source": [
    "data.head()"
   ]
  },
  {
   "cell_type": "code",
   "execution_count": 32,
   "metadata": {},
   "outputs": [
    {
     "data": {
      "text/plain": [
       "Index(['name', 'mpg', 'cyl', 'disp', 'hp', 'drat', 'wt', 'qsec', 'vs', 'am',\n",
       "       'gear', 'carb'],\n",
       "      dtype='object')"
      ]
     },
     "execution_count": 32,
     "metadata": {},
     "output_type": "execute_result"
    }
   ],
   "source": [
    "data.columns"
   ]
  },
  {
   "cell_type": "code",
   "execution_count": 34,
   "metadata": {},
   "outputs": [
    {
     "data": {
      "text/plain": [
       "<seaborn.axisgrid.PairGrid at 0xc0ac5f8>"
      ]
     },
     "execution_count": 34,
     "metadata": {},
     "output_type": "execute_result"
    },
    {
     "data": {
      "image/png": "[encoded data removed]",
      "text/plain": [
       "<Figure size 360x360 with 6 Axes>"
      ]
     },
     "metadata": {
      "needs_background": "light"
     },
     "output_type": "display_data"
    }
   ],
   "source": [
    "sns.pairplot(data[['mpg','disp']])"
   ]
  },
  {
   "cell_type": "code",
   "execution_count": 36,
   "metadata": {},
   "outputs": [
    {
     "data": {
      "text/plain": [
       "<matplotlib.axes._subplots.AxesSubplot at 0xc27ef98>"
      ]
     },
     "execution_count": 36,
     "metadata": {},
     "output_type": "execute_result"
    },
    {
     "data": {
      "image/png": "[encoded data removed]",
      "text/plain": [
       "<Figure size 432x288 with 1 Axes>"
      ]
     },
     "metadata": {
      "needs_background": "light"
     },
     "output_type": "display_data"
    }
   ],
   "source": [
    "sns.scatterplot(x=data['mpg'],y=data['disp'])"
   ]
  },
  {
   "cell_type": "code",
   "execution_count": 37,
   "metadata": {},
   "outputs": [
    {
     "data": {
      "text/plain": [
       "LinregressResult(slope=-17.42912167035629, intercept=580.883822558502, rvalue=-0.8475513792624788, pvalue=9.380326537381263e-10, stderr=1.992548271562749)"
      ]
     },
     "execution_count": 37,
     "metadata": {},
     "output_type": "execute_result"
    }
   ],
   "source": [
    "from scipy.stats import linregress\n",
    "linregress(data['mpg'],data['disp'])"
   ]
  },
  {
   "cell_type": "code",
   "execution_count": null,
   "metadata": {},
   "outputs": [],
   "source": []
  }
 ],
 "metadata": {
  "kernelspec": {
   "display_name": "Python 3",
   "language": "python",
   "name": "python3"
  },
  "language_info": {
   "codemirror_mode": {
    "name": "ipython",
    "version": 3
   },
   "file_extension": ".py",
   "mimetype": "text/x-python",
   "name": "python",
   "nbconvert_exporter": "python",
   "pygments_lexer": "ipython3",
   "version": "3.7.0"
  }
 },
 "nbformat": 4,
 "nbformat_minor": 2
}
